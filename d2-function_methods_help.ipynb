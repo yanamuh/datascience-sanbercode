{
 "cells": [
  {
   "cell_type": "markdown",
   "metadata": {
    "colab_type": "text",
    "id": "I6jmLA-RYrt5"
   },
   "source": [
    "<h2>Soal 1: Helper Function</h2>\n",
    "\n",
    "Jawab Pertanyaan di bawah ini:\n",
    "\n",
    "Misalkan kamu ingin mengetahui tentang kegunaan fungsi 'len' di Python, maka fungsi apa yang bisa kamu gunakan untuk menolong kamu?"
   ]
  },
  {
   "cell_type": "code",
   "execution_count": 1,
   "metadata": {
    "colab": {},
    "colab_type": "code",
    "id": "VrvyQxGJYrt9"
   },
   "outputs": [
    {
     "name": "stdout",
     "output_type": "stream",
     "text": [
      "Help on built-in function len in module builtins:\n",
      "\n",
      "len(obj, /)\n",
      "    Return the number of items in a container.\n",
      "\n"
     ]
    }
   ],
   "source": [
    "# lengkapi code ini\n",
    "help(len)"
   ]
  },
  {
   "cell_type": "markdown",
   "metadata": {
    "colab_type": "text",
    "id": "KrcuFTuAYruT"
   },
   "source": [
    "<h2>Soal 2: Built-in Function</h2>\n",
    "\n",
    "Jawab Pertanyaan di bawah ini:\n",
    "    \n",
    "Apa itu built-in Function?\n",
    "\n",
    "Sebutkan 3 built-in Function di pyhon!\n",
    "\n",
    "Berikan contoh masing2 1 cara penggunaan built-in function yang kamu sebutkan sebelumnya"
   ]
  },
  {
   "cell_type": "markdown",
   "metadata": {
    "colab_type": "text",
    "id": "xro-58_CYruW"
   },
   "source": [
    "//isi jawaban text disini\n"
   ]
  },
  {
   "cell_type": "code",
   "execution_count": 54,
   "metadata": {
    "colab": {},
    "colab_type": "code",
    "id": "Xv7lHkgfYruY"
   },
   "outputs": [
    {
     "name": "stdout",
     "output_type": "stream",
     "text": [
      "Help on built-in function abs in module builtins:\n",
      "\n",
      "abs(x, /)\n",
      "    Return the absolute value of the argument.\n",
      "\n",
      "Nilai absolut dari -7 adalah 7\n"
     ]
    }
   ],
   "source": [
    "# Contoh penggunaan built in function\n",
    "\"\"\"\n",
    "Built in function adalah fungsi yang sudah tersedia di dalam python (fungsi bawaan)\n",
    "3 contoh built in function\n",
    "    1. abs() = mengabsolutkan nilai numerik\n",
    "    2. help() = untuk membantu mengetahui/memberikan dokumentasi tentang fungsi, method, class, dll\n",
    "    3. print() = menampilkan objek\n",
    "\"\"\"\n",
    "\n",
    "# fungsi abs()\n",
    "a = -7;\n",
    "b = abs(a);\n",
    "\n",
    "#fungsi help()\n",
    "help(abs)\n",
    "\n",
    "#fungsi print\n",
    "print(\"Nilai absolut dari\",a,\"adalah\", b)"
   ]
  },
  {
   "cell_type": "markdown",
   "metadata": {
    "colab_type": "text",
    "id": "yhWXiPNDYrul"
   },
   "source": [
    "<h2>Soal 3: Method dan Function</h2>\n",
    "\n",
    "Jawab Pertanyaan di bawah ini:\n",
    "    \n",
    "- Apa perbedaan method dan function?"
   ]
  },
  {
   "cell_type": "code",
   "execution_count": 55,
   "metadata": {},
   "outputs": [
    {
     "data": {
      "text/plain": [
       "'\\nFungsi adalah sekumpulan kode untuk keperluan khusus.\\n\\nMethods hampir mirip seperti fungsi, tetapi methods terasosiasi dengan suatu objek/class. \\nSingkatnya methods adalah fungsi yang dimiliki oleh suatu objek.\\n\\nMaka perbedaannya adalah fungsi dipanggil sendiri melalui fungsi tersebut, contoh fungsi() \\nsementara method dipanggil pada suatu objek tertentu sehingga method dapat mengakses data suatu objek, contoh object.method()\\n'"
      ]
     },
     "execution_count": 55,
     "metadata": {},
     "output_type": "execute_result"
    }
   ],
   "source": [
    "\"\"\"\n",
    "Fungsi adalah sekumpulan kode untuk keperluan khusus.\n",
    "\n",
    "Methods hampir mirip seperti fungsi, tetapi methods terasosiasi dengan suatu objek/class. \n",
    "Singkatnya methods adalah fungsi yang dimiliki oleh suatu objek.\n",
    "\n",
    "Maka perbedaannya adalah fungsi dipanggil sendiri melalui fungsi tersebut, contoh fungsi() \n",
    "sementara method dipanggil pada suatu objek tertentu sehingga method dapat mengakses data suatu objek, contoh object.method()\n",
    "\"\"\""
   ]
  },
  {
   "cell_type": "markdown",
   "metadata": {
    "colab_type": "text",
    "id": "rqpTJlgDYrun"
   },
   "source": [
    "\n",
    "\n",
    "<h2>Soal 4: Menggunkan Method String</h2>\n",
    "\n",
    "Lengkapi kode untuk menghasilkan suatu output yang di harapkan"
   ]
  },
  {
   "cell_type": "code",
   "execution_count": 12,
   "metadata": {
    "colab": {},
    "colab_type": "code",
    "id": "037gauOGYrur"
   },
   "outputs": [
    {
     "name": "stdout",
     "output_type": "stream",
     "text": [
      "CORONA CEPAT SELESAI\n",
      "3\n"
     ]
    }
   ],
   "source": [
    "kalimat = \"Corona cepat selesai\"\n",
    "\n",
    "# gunakan method untuk mengubah nilai kalimat menjadi uppercase semua kemudian tampilkan hasilnya\n",
    "a = kalimat.upper();\n",
    "print(a)\n",
    "\n",
    "# gunakan method untuk menghitung berapa huruf e di dalam kalimat\n",
    "b = kalimat.count('e')\n",
    "print(b)"
   ]
  },
  {
   "cell_type": "markdown",
   "metadata": {
    "colab_type": "text",
    "id": "fPTd4R5VYru5"
   },
   "source": [
    "Expected Output:\n",
    "\n",
    "CORONA CEPAT SELESAI\n",
    "\n",
    "3"
   ]
  },
  {
   "cell_type": "markdown",
   "metadata": {
    "colab_type": "text",
    "id": "IPjp5vwDYrvL"
   },
   "source": [
    "<h2>Soal 5: Membuat Simple Function</h2>\n",
    "\n",
    "Buatlah suatu fungsi yang menerima satu input argumen berbentuk list dan mempunyai elemen bertipe numeric semua, dimana fungsi tersebut berguna untuk menghitung rata2 dari kumpulan elemen list tersebut. namai fungsi tersebut 'mean_list'"
   ]
  },
  {
   "cell_type": "code",
   "execution_count": 18,
   "metadata": {
    "colab": {},
    "colab_type": "code",
    "id": "smoKI9zIYrvO"
   },
   "outputs": [
    {
     "name": "stdout",
     "output_type": "stream",
     "text": [
      "13.9\n"
     ]
    }
   ],
   "source": [
    "obj_list = [11.25, 18.0, 20.0, 10.75, 9.50]\n",
    "def mean_list(inp_list):\n",
    "    # isikan code\n",
    "    sum_list = sum(obj_list);\n",
    "    lenght = len(obj_list);\n",
    "    mean = sum_list/lenght;\n",
    "    return mean\n",
    "\n",
    "print(mean_list(obj_list))"
   ]
  },
  {
   "cell_type": "markdown",
   "metadata": {
    "colab_type": "text",
    "id": "MVAvoHHgYrva"
   },
   "source": [
    "Expected Output:\n",
    "\n",
    "13.9"
   ]
  },
  {
   "cell_type": "markdown",
   "metadata": {
    "colab_type": "text",
    "id": "A8jjpNC8Yrvc"
   },
   "source": [
    "<h2>Soal 6: Membuat Function dengan Multiple arguments</h2>\n",
    "\n",
    "Buatlah suatu fungsi untuk melakukan penggabungan antara dua list"
   ]
  },
  {
   "cell_type": "code",
   "execution_count": 56,
   "metadata": {
    "colab": {},
    "colab_type": "code",
    "id": "r42z4mafYrve",
    "scrolled": true
   },
   "outputs": [
    {
     "name": "stdout",
     "output_type": "stream",
     "text": [
      "[2, 4, 5, 6, 1, 2, 3]\n"
     ]
    }
   ],
   "source": [
    "obj_list = [2, 4, 5, 6]\n",
    "obj_penambah = [1, 2, 3]\n",
    "def kali_list(obj_list, obj_penambah):\n",
    "    # isikan kode\n",
    "    a = [*obj_list, *obj_penambah];\n",
    "    return a\n",
    "    \n",
    "print(kali_list(obj_list, obj_penambah))\n",
    "\n",
    "# x = [2, 4, 5, 6];\n",
    "# y = [1, 2, 2];\n",
    "# x.extend(y);\n",
    "# print(x);\n",
    "# atau bisa langsung x+y;\n",
    "\n",
    "\n",
    "\n"
   ]
  },
  {
   "cell_type": "markdown",
   "metadata": {
    "colab_type": "text",
    "id": "RYhU921kYrvp"
   },
   "source": [
    "Expected Output:\n",
    "\n",
    "[2, 4, 5, 6, 1, 2, 3]"
   ]
  }
 ],
 "metadata": {
  "colab": {
   "collapsed_sections": [],
   "name": "Tugas Hari 2.ipynb",
   "provenance": []
  },
  "kernelspec": {
   "display_name": "Python 3",
   "language": "python",
   "name": "python3"
  },
  "language_info": {
   "codemirror_mode": {
    "name": "ipython",
    "version": 3
   },
   "file_extension": ".py",
   "mimetype": "text/x-python",
   "name": "python",
   "nbconvert_exporter": "python",
   "pygments_lexer": "ipython3",
   "version": "3.7.3"
  }
 },
 "nbformat": 4,
 "nbformat_minor": 1
}
