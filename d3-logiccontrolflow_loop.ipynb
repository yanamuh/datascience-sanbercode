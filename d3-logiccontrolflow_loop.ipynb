{
 "cells": [
  {
   "cell_type": "markdown",
   "metadata": {
    "colab_type": "text",
    "id": "a9HYUdCUsrKl"
   },
   "source": [
    "<h2>Soal 1: Comparison Operator</h2>\n",
    "\n",
    "- Berikan contoh comparison dari tipe data string\n",
    "- Berikan contoh comparison dari tipe data boolean\n",
    "- Berikan contoh comparison dari tipe data integer"
   ]
  },
  {
   "cell_type": "code",
   "execution_count": 6,
   "metadata": {
    "colab": {},
    "colab_type": "code",
    "id": "lXMCHZ71srKp"
   },
   "outputs": [
    {
     "name": "stdout",
     "output_type": "stream",
     "text": [
      "True\n",
      "False\n",
      "False\n"
     ]
    }
   ],
   "source": [
    "#comparison tipe data string\n",
    "a = \"a\"\n",
    "b = \"A\"\n",
    "print(a!=b)\n",
    "\n",
    "#comparison tipe data boolean\n",
    "c = True;\n",
    "d = False;\n",
    "print(c==d)\n",
    "    \n",
    "#comparison tipe data integer\n",
    "x = 3;\n",
    "y = 5;\n",
    "print(x>y)"
   ]
  },
  {
   "cell_type": "markdown",
   "metadata": {
    "colab_type": "text",
    "id": "IbNoZvVssrK5"
   },
   "source": [
    "<h2>Soal 2: Boolean Comparison</h2>\n",
    "\n",
    "- Berikan contoh gabungan multiple comparison menggunkan Boolean Comparisin 'and'\n",
    "- Berikan contoh gabungan multiple comparison menggunkan Boolean Comparisin 'or'\n",
    "- Berikan contoh gabungan multiple comparison menggunkan Boolean Comparisin 'not'"
   ]
  },
  {
   "cell_type": "code",
   "execution_count": 1,
   "metadata": {
    "colab": {},
    "colab_type": "code",
    "id": "7eU1vPLCsrK7"
   },
   "outputs": [
    {
     "name": "stdout",
     "output_type": "stream",
     "text": [
      "I can run Indonesia president election:  False \n",
      "\n",
      "False \n",
      "\n",
      "I can be a model:  True \n",
      "\n",
      "True \n",
      "\n",
      "True\n"
     ]
    }
   ],
   "source": [
    "# and\n",
    "def com_and(age, wni):\n",
    "    return age>40 and wni == \"WNI\"\n",
    "print(\"I can run Indonesia president election: \",com_and(40, \"WNI\"),\"\\n\")\n",
    "\n",
    "#contoh lain\n",
    "aku = 3\n",
    "kamu = 4\n",
    "dia = 10\n",
    "print(dia>kamu and aku>dia,\"\\n\")\n",
    "#----------------------------------------\n",
    "# or\n",
    "def com_or(height, weight):\n",
    "    return (height>=160) or (45<weight<70)\n",
    "print(\"I can be a model: \", com_or(165, 80),\"\\n\")\n",
    "\n",
    "#contoh lain\n",
    "a = \"asik\"; b = 15\n",
    "c = \"Asik\"; d = 10\n",
    "ac = a==c\n",
    "bd = b>d\n",
    "print(ac or bd,\"\\n\")\n",
    "\n",
    "#------------------------------------------\n",
    "# not\n",
    "print(not(3>=5))"
   ]
  },
  {
   "cell_type": "markdown",
   "metadata": {
    "colab_type": "text",
    "id": "Yp_g_sPMsrLH"
   },
   "source": [
    "<h2>Soal 3: If-Else Statement</h2>\n",
    "\n",
    "Lengkapi kode untuk menghasilkan suatu output yang di harapkan\n",
    "\n",
    "- Bualah sebuah if-else statement yang dimana akan mem-print 'Besar' jika ruangan adalah 'Kamar' dan ukuran lebih dari 12, kemudian mem-print 'Sedang' jika ruangan adalah 'Kamar' dan ukuran lebih dari 6 dan memprint 'Kecil' jika ruangan adalah 'Kamar' dan ukuran ruangan lebih kecil dan sama dengan 6."
   ]
  },
  {
   "cell_type": "code",
   "execution_count": 83,
   "metadata": {
    "colab": {},
    "colab_type": "code",
    "id": "euRiRNupsrLK"
   },
   "outputs": [
    {
     "name": "stdout",
     "output_type": "stream",
     "text": [
      "Besar\n"
     ]
    }
   ],
   "source": [
    "ruangan = 'Kamar'\n",
    "size = 20\n",
    "\n",
    "if (ruangan=='Kamar') and (size>12):\n",
    "    print('Besar')\n",
    "elif (ruangan=='Kamar') and (6<size<=12):\n",
    "    print('Sedang')\n",
    "elif (ruangan=='Kamar') and (size<=6):\n",
    "    print('Kecil')\n",
    "else:\n",
    "    print(\"salah ketik\")"
   ]
  },
  {
   "cell_type": "markdown",
   "metadata": {
    "colab_type": "text",
    "id": "IcoJXJT1srLW"
   },
   "source": [
    "<h2>Soal 4: Comparison Operator dengan fungsi</h2>\n",
    "\n",
    "Buatlah sebuah fungsi yang menerima satu argument bertipe data numeric dan menghasilkan sebuah return sebagai berikut :\n",
    "- menghasilkan return 'Aneh' jika nilai dari argument tersebut adalah bilangan ganjil\n",
    "- menghasilkan return 'Tidak Aneh' jika nilai dari argument tersebut adalah bilangan genap dan diantara nilai 2 sampai 5 (2 dan 5 termasuk)\n",
    "- menghasilkan return 'Aneh' jika nilai dari argument tersebut adalah bilangan genap dan diantara nilai 6 sampai 20 (6 dan 20 termasuk)\n",
    "- menghasilkan return 'Tidak Aneh' jika nilai dari argument tersebut adalah bilangan genap dan lebih besari dari 20"
   ]
  },
  {
   "cell_type": "code",
   "execution_count": 8,
   "metadata": {
    "colab": {},
    "colab_type": "code",
    "id": "g8F_qfEKsrLZ"
   },
   "outputs": [
    {
     "name": "stdout",
     "output_type": "stream",
     "text": [
      "Tidak Aneh\n"
     ]
    }
   ],
   "source": [
    "## Buat fungsi\n",
    "a = 22;\n",
    "if not(a%2==0):\n",
    "    print(\"Aneh\");\n",
    "elif (a%2==0) and (a>=2 and a <=5):\n",
    "    print(\"Tidak Aneh\");\n",
    "elif (a%2==0) and (a>=6 and a<=20):\n",
    "    print(\"Aneh\");\n",
    "elif (a%2==0) and (a>20):\n",
    "    print(\"Tidak Aneh\");\n",
    "else:\n",
    "    print(\"Tidak dalam range\");\n"
   ]
  },
  {
   "cell_type": "markdown",
   "metadata": {
    "colab_type": "text",
    "id": "gf0D64xOsrLl"
   },
   "source": [
    "<h2>Soal 5: While Loop dan For Loop</h2>\n",
    "\n",
    "- Apa perbedaan while loop dan for loop?\n",
    "- Berikan contoh sederhana cara menggunakan while loop dan for loop"
   ]
  },
  {
   "cell_type": "code",
   "execution_count": 4,
   "metadata": {
    "colab": {},
    "colab_type": "code",
    "id": "l7KIgpjHsrLo"
   },
   "outputs": [
    {
     "name": "stdout",
     "output_type": "stream",
     "text": [
      "Contoh while-loop\n",
      "i = 0\n",
      "i = 1\n",
      "i = 2\n",
      "i = 3\n",
      "i = 4\n",
      "i = 5\n",
      "i = 6\n",
      "i = 7\n",
      "i = 8\n",
      "i = 9\n",
      "i = 10\n",
      "\n",
      "\n",
      "Contoh for-loop\n",
      "apel\n",
      "jeruk\n",
      "jambu\n",
      "rambutan\n"
     ]
    }
   ],
   "source": [
    "# Tulis Kode\n",
    "\"\"\"\n",
    "While loop adalah jenis loop yang terus menerus melakukan looping\n",
    "hingga kondisi untuk berhenti terpenuhi. For loop adalah jenis loop yang akan terus perulangan yang diinginkan\n",
    "\"\"\"\n",
    "\n",
    "#while loop\n",
    "print(\"Contoh while-loop\")\n",
    "i = 0;\n",
    "while (i<=10):\n",
    "    print(\"i =\",i);\n",
    "    i+=1;\n",
    "print(\"\\n\")\n",
    "    \n",
    "#for loop\n",
    "print(\"Contoh for-loop\")\n",
    "buah = [\"apel\",\"jeruk\",\"jambu\",\"rambutan\"];\n",
    "j = 0;\n",
    "for j in buah:\n",
    "    print(j)\n",
    "    "
   ]
  },
  {
   "cell_type": "markdown",
   "metadata": {
    "colab_type": "text",
    "id": "fZQpBGCgsrLz"
   },
   "source": [
    "<h2>Soal 6: While Loop</h2>\n",
    "    \n",
    "Buatlah sebuah code while loop sebagai berikut :\n",
    "- Buatlah suatu fungsi yang merima satu input nilai numeric\n",
    "- Dalam fungsi, Buat sebuah while-loop dengan melakukan comparasi terhadap inputan tersebut, dimana looping/iterasi terus berjalan apabila nilai inputan tidak sama dengan 0\n",
    "- Dalam setiap iterasi update nilai variable inputan itu, jika input lebih dari 0, maka kurangi variabel tersebut sebesar 1, selain itu tambahkan 1\n",
    "- print nilai variable input dalam setiap awal iterasi"
   ]
  },
  {
   "cell_type": "code",
   "execution_count": 5,
   "metadata": {
    "colab": {},
    "colab_type": "code",
    "id": "yOiqjrU2srL1"
   },
   "outputs": [
    {
     "name": "stdout",
     "output_type": "stream",
     "text": [
      "10\n",
      "9\n",
      "8\n",
      "7\n",
      "6\n",
      "5\n",
      "4\n",
      "3\n",
      "2\n",
      "1\n"
     ]
    }
   ],
   "source": [
    "a = 10\n",
    "\n",
    "def fungsi_while(a):\n",
    "    while a!=0 :\n",
    "        print(a)\n",
    "        if a>0:\n",
    "            a-=1;\n",
    "        else:\n",
    "            a+=1;\n",
    "        \n",
    "\n",
    "fungsi_while(a)"
   ]
  },
  {
   "cell_type": "markdown",
   "metadata": {
    "colab_type": "text",
    "id": "lKzngRrlsrMD"
   },
   "source": [
    "Expected Output:\n",
    "\n",
    "10\n",
    "\n",
    "9\n",
    "\n",
    "8\n",
    "\n",
    "7\n",
    "\n",
    "6\n",
    "\n",
    "5\n",
    "\n",
    "4\n",
    "\n",
    "3\n",
    "\n",
    "2\n",
    "\n",
    "1"
   ]
  },
  {
   "cell_type": "markdown",
   "metadata": {
    "colab_type": "text",
    "id": "IWg3Z_zZsrMG"
   },
   "source": [
    "<h2>Soal 7: For Loop</h2>\n",
    "    \n",
    "Lengkapi kode untuk menghasilkan suatu output yang di harapkan:\n",
    "\n",
    "- Buatlah sebuah loop dengan mengiterasi sebuah objek list kemudian di kalikan dengan index dari list tersebut dan print hasilnya"
   ]
  },
  {
   "cell_type": "code",
   "execution_count": 14,
   "metadata": {
    "colab": {},
    "colab_type": "code",
    "id": "_Jl5i7WKsrMI"
   },
   "outputs": [
    {
     "name": "stdout",
     "output_type": "stream",
     "text": [
      "0\n",
      "16\n",
      "22\n",
      "30\n",
      "20\n"
     ]
    }
   ],
   "source": [
    "obj_list= [1, 16, 11, 10, 5]\n",
    "\n",
    "# lengkapi code di bawah\n",
    "for i, obj in enumerate(obj_list):\n",
    "    print(i*obj)"
   ]
  },
  {
   "cell_type": "markdown",
   "metadata": {
    "colab_type": "text",
    "id": "OGawROjnsrMU"
   },
   "source": [
    "Expected Output:\n",
    "\n",
    "0\n",
    "\n",
    "16\n",
    "\n",
    "22\n",
    "\n",
    "30\n",
    "\n",
    "20\n"
   ]
  }
 ],
 "metadata": {
  "colab": {
   "name": "Tugas Hari 4.ipynb",
   "provenance": []
  },
  "kernelspec": {
   "display_name": "Python 3",
   "language": "python",
   "name": "python3"
  },
  "language_info": {
   "codemirror_mode": {
    "name": "ipython",
    "version": 3
   },
   "file_extension": ".py",
   "mimetype": "text/x-python",
   "name": "python",
   "nbconvert_exporter": "python",
   "pygments_lexer": "ipython3",
   "version": "3.7.3"
  }
 },
 "nbformat": 4,
 "nbformat_minor": 1
}
