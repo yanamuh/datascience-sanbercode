{
 "cells": [
  {
   "cell_type": "markdown",
   "metadata": {
    "colab_type": "text",
    "id": "1QERX9FCGhek"
   },
   "source": [
    "<b>Note</b>: Pada kuis kali ini kita akan menggunakan data diamonds.csv yang bisa kalian download [disini](https://drive.google.com/uc?export=download&id=1qQiM9utQUThTPq8jk8stPMh_y2zfqYOd). setelah di download, kalian pindahkan data tersebut satu level dengan direktori file notebook ini.\n"
   ]
  },
  {
   "cell_type": "code",
   "execution_count": 2,
   "metadata": {
    "colab": {},
    "colab_type": "code",
    "id": "lNDQlQwYGhfy"
   },
   "outputs": [],
   "source": [
    "import pandas as pd\n",
    "df = pd.read_csv('diamonds-3.csv')\n",
    "df.drop('Unnamed: 0', axis=1, inplace=True) #hilangkan kolom unnamed"
   ]
  },
  {
   "cell_type": "code",
   "execution_count": 3,
   "metadata": {
    "colab": {},
    "colab_type": "code",
    "id": "JheA7Y3dGhgM",
    "outputId": "f2931f42-1a2c-4704-f88f-e08572d69315"
   },
   "outputs": [
    {
     "data": {
      "text/html": [
       "<div>\n",
       "<style scoped>\n",
       "    .dataframe tbody tr th:only-of-type {\n",
       "        vertical-align: middle;\n",
       "    }\n",
       "\n",
       "    .dataframe tbody tr th {\n",
       "        vertical-align: top;\n",
       "    }\n",
       "\n",
       "    .dataframe thead th {\n",
       "        text-align: right;\n",
       "    }\n",
       "</style>\n",
       "<table border=\"1\" class=\"dataframe\">\n",
       "  <thead>\n",
       "    <tr style=\"text-align: right;\">\n",
       "      <th></th>\n",
       "      <th>carat</th>\n",
       "      <th>cut</th>\n",
       "      <th>color</th>\n",
       "      <th>clarity</th>\n",
       "      <th>depth</th>\n",
       "      <th>table</th>\n",
       "      <th>price</th>\n",
       "      <th>x</th>\n",
       "      <th>y</th>\n",
       "      <th>z</th>\n",
       "    </tr>\n",
       "  </thead>\n",
       "  <tbody>\n",
       "    <tr>\n",
       "      <th>0</th>\n",
       "      <td>0.23</td>\n",
       "      <td>Ideal</td>\n",
       "      <td>E</td>\n",
       "      <td>SI2</td>\n",
       "      <td>61.5</td>\n",
       "      <td>55.0</td>\n",
       "      <td>326</td>\n",
       "      <td>3.95</td>\n",
       "      <td>3.98</td>\n",
       "      <td>2.43</td>\n",
       "    </tr>\n",
       "    <tr>\n",
       "      <th>1</th>\n",
       "      <td>0.21</td>\n",
       "      <td>Premium</td>\n",
       "      <td>E</td>\n",
       "      <td>SI1</td>\n",
       "      <td>59.8</td>\n",
       "      <td>61.0</td>\n",
       "      <td>326</td>\n",
       "      <td>3.89</td>\n",
       "      <td>3.84</td>\n",
       "      <td>2.31</td>\n",
       "    </tr>\n",
       "    <tr>\n",
       "      <th>2</th>\n",
       "      <td>0.23</td>\n",
       "      <td>Good</td>\n",
       "      <td>E</td>\n",
       "      <td>VS1</td>\n",
       "      <td>56.9</td>\n",
       "      <td>65.0</td>\n",
       "      <td>327</td>\n",
       "      <td>4.05</td>\n",
       "      <td>4.07</td>\n",
       "      <td>2.31</td>\n",
       "    </tr>\n",
       "    <tr>\n",
       "      <th>3</th>\n",
       "      <td>0.29</td>\n",
       "      <td>Premium</td>\n",
       "      <td>I</td>\n",
       "      <td>VS2</td>\n",
       "      <td>62.4</td>\n",
       "      <td>58.0</td>\n",
       "      <td>334</td>\n",
       "      <td>4.20</td>\n",
       "      <td>4.23</td>\n",
       "      <td>2.63</td>\n",
       "    </tr>\n",
       "    <tr>\n",
       "      <th>4</th>\n",
       "      <td>0.31</td>\n",
       "      <td>Good</td>\n",
       "      <td>J</td>\n",
       "      <td>SI2</td>\n",
       "      <td>63.3</td>\n",
       "      <td>58.0</td>\n",
       "      <td>335</td>\n",
       "      <td>4.34</td>\n",
       "      <td>4.35</td>\n",
       "      <td>2.75</td>\n",
       "    </tr>\n",
       "  </tbody>\n",
       "</table>\n",
       "</div>"
      ],
      "text/plain": [
       "   carat      cut color clarity  depth  table  price     x     y     z\n",
       "0   0.23    Ideal     E     SI2   61.5   55.0    326  3.95  3.98  2.43\n",
       "1   0.21  Premium     E     SI1   59.8   61.0    326  3.89  3.84  2.31\n",
       "2   0.23     Good     E     VS1   56.9   65.0    327  4.05  4.07  2.31\n",
       "3   0.29  Premium     I     VS2   62.4   58.0    334  4.20  4.23  2.63\n",
       "4   0.31     Good     J     SI2   63.3   58.0    335  4.34  4.35  2.75"
      ]
     },
     "execution_count": 3,
     "metadata": {},
     "output_type": "execute_result"
    }
   ],
   "source": [
    "df.head()"
   ]
  },
  {
   "cell_type": "code",
   "execution_count": 1,
   "metadata": {},
   "outputs": [
    {
     "ename": "NameError",
     "evalue": "name 'df' is not defined",
     "output_type": "error",
     "traceback": [
      "\u001b[1;31m---------------------------------------------------------------------------\u001b[0m",
      "\u001b[1;31mNameError\u001b[0m                                 Traceback (most recent call last)",
      "\u001b[1;32m<ipython-input-1-e2bb0c14835f>\u001b[0m in \u001b[0;36m<module>\u001b[1;34m\u001b[0m\n\u001b[1;32m----> 1\u001b[1;33m \u001b[0mdf\u001b[0m\u001b[1;33m.\u001b[0m\u001b[0mswap\u001b[0m\u001b[1;33m(\u001b[0m\u001b[0mdf\u001b[0m\u001b[1;33m.\u001b[0m\u001b[0mrow\u001b[0m\u001b[1;33m[\u001b[0m\u001b[1;36m1\u001b[0m\u001b[1;33m]\u001b[0m\u001b[1;33m,\u001b[0m\u001b[0mdf\u001b[0m\u001b[1;33m.\u001b[0m\u001b[0mrow\u001b[0m\u001b[1;33m[\u001b[0m\u001b[1;36m2\u001b[0m\u001b[1;33m]\u001b[0m\u001b[1;33m,\u001b[0m\u001b[0minplace\u001b[0m\u001b[1;33m=\u001b[0m\u001b[1;32mTrue\u001b[0m\u001b[1;33m)\u001b[0m\u001b[1;33m\u001b[0m\u001b[1;33m\u001b[0m\u001b[0m\n\u001b[0m",
      "\u001b[1;31mNameError\u001b[0m: name 'df' is not defined"
     ]
    }
   ],
   "source": [
    "df.swap(df.row[1],df.row[2],inplace=True)"
   ]
  },
  {
   "cell_type": "markdown",
   "metadata": {
    "colab_type": "text",
    "id": "pmVAJ-osGhg5"
   },
   "source": [
    "Columns Metadata:\n",
    "\n",
    "carat: berat diamond\n",
    "\n",
    "cut: kualitas diamond\n",
    "\n",
    "color: warna diamond\n",
    "\n",
    "clarity: level kemurnian diamonds\n",
    "\n",
    "depth: tinggi dari diamond tabel\n",
    "\n",
    "table: lebar  dari diamond tabel\n",
    "\n",
    "price: harga diamond ($US)\n",
    "\n",
    "x: panjang\n",
    "\n",
    "y: lebar\n",
    "\n",
    "z: kedalaaman"
   ]
  },
  {
   "cell_type": "markdown",
   "metadata": {
    "colab_type": "text",
    "id": "-kEXjJD-Ghg8"
   },
   "source": [
    "<h2>Soal 1: Process Grouping</h2>\n",
    "\n",
    "Jelaskan prosess yang terjadi dalam grouping data menggungkan method <b>groupby()</b> dari pandas."
   ]
  },
  {
   "cell_type": "markdown",
   "metadata": {
    "colab_type": "text",
    "id": "v6HbDnJiGhg_"
   },
   "source": [
    "jawab: grouping adalah teknik memisahkan data berdasarkan kriteria tertentu atau definisi lainnya adalah melakukan mapping suatu data terhadap suatu group. Ketika melakukan grouping, ada beberapa proses yang terjadi secara berurutan, yaitu:\n",
    "- Splitting : memisahkan data ke dalam suatu grup berdasarkan kriteria tertentu.\n",
    "- Applying : melakukan suatu operasi terhadap sekumpulan data di grup-grup tersebut.\n",
    "- Combining : menggabungkan data menjad suatu struktur baru"
   ]
  },
  {
   "cell_type": "markdown",
   "metadata": {
    "colab_type": "text",
    "id": "temY99a4GhhD"
   },
   "source": [
    "<h2>Soal 2: Grouping All Column</h2>\n",
    "    \n",
    "Group data diamond berdasarkan cut (kualitas), lakukan aggregasi dengan fungsi rata2.\n",
    "\n",
    "Kemudian jawab pertanyaan berikut.\n",
    "- Berapa harga rata2 dari diamond berkualitas Premium"
   ]
  },
  {
   "cell_type": "markdown",
   "metadata": {
    "colab_type": "text",
    "id": "Bz0zPLO-Ghhv"
   },
   "source": [
    "Expected Output:\n",
    "\n",
    "![alt text](https://drive.google.com/uc?id=1GKanuLzNv_pYBFVRBmQywxQw39uQBvSl)"
   ]
  },
  {
   "cell_type": "code",
   "execution_count": 8,
   "metadata": {
    "colab": {},
    "colab_type": "code",
    "id": "OIVMdxK6GhhH"
   },
   "outputs": [
    {
     "name": "stdout",
     "output_type": "stream",
     "text": [
      "              carat      depth      table        price         x         y  \\\n",
      "cut                                                                          \n",
      "Fair       1.046137  64.041677  59.053789  4358.757764  6.246894  6.182652   \n",
      "Good       0.849185  62.365879  58.694639  3928.864452  5.838785  5.850744   \n",
      "Ideal      0.702837  61.709401  55.951668  3457.541970  5.507451  5.520080   \n",
      "Premium    0.891955  61.264673  58.746095  4584.257704  5.973887  5.944879   \n",
      "Very Good  0.806381  61.818275  57.956150  3981.759891  5.740696  5.770026   \n",
      "\n",
      "                  z  \n",
      "cut                  \n",
      "Fair       3.982770  \n",
      "Good       3.639507  \n",
      "Ideal      3.401448  \n",
      "Premium    3.647124  \n",
      "Very Good  3.559801   \n",
      "\n",
      "Harga rata-rata diamond kualitas premium adalah:  4584.2577\n"
     ]
    }
   ],
   "source": [
    "# code here\n",
    "# Grouping data by 'cut'\n",
    "byclass = df.groupby('cut').mean()\n",
    "print(byclass,'\\n')\n",
    "\n",
    "prem = byclass['price']['Premium']\n",
    "print('Harga rata-rata diamond kualitas premium adalah: ',round(prem,4))"
   ]
  },
  {
   "cell_type": "markdown",
   "metadata": {
    "colab_type": "text",
    "id": "tB2JeNoiGhhn"
   },
   "source": [
    "jawab: Harga rata-rata diamond kualitas premium adalah:  4584.2577"
   ]
  },
  {
   "cell_type": "markdown",
   "metadata": {
    "colab_type": "text",
    "id": "VdcJdIavGhh7"
   },
   "source": [
    "<h2>Soal 3: Grouping Some Column base on Multiple Criteria</h2>\n",
    "    \n",
    "Lakukan groupby pada data berdasarkan kriteria cut (kualitas) dan color (warna) secara berurutan, dengan aggregasi pada column carat, table, dan price saja. dengan fungsi agregasi rata-rata.\n",
    "\n",
    "Kemudian jawab pertanyaan berikut:\n",
    "- Berapa harga diamond yang berkriteria premium dan berwarna J\n",
    "- Berapa nilai dari carat diamond yang berkriteria very good dan berwarna H"
   ]
  },
  {
   "cell_type": "markdown",
   "metadata": {
    "colab_type": "text",
    "id": "2GkwtzXZGhiB"
   },
   "source": [
    "Expected Output:\n",
    "\n",
    "Note: gambar hanya sebagaian dari keseluruhan data\n",
    "\n",
    "![alt text](https://drive.google.com/uc?id=1XB_uHor7ZCPQUH9uQjSfd6aC6_yJnjh9)"
   ]
  },
  {
   "cell_type": "code",
   "execution_count": 4,
   "metadata": {
    "colab": {},
    "colab_type": "code",
    "id": "xmlLKQz8GhiD"
   },
   "outputs": [
    {
     "name": "stdout",
     "output_type": "stream",
     "text": [
      "                    carat      table        price\n",
      "cut       color                                  \n",
      "Fair      D      0.920123  58.969325  4291.061350\n",
      "          E      0.856607  59.364732  3682.312500\n",
      "          F      0.904712  59.453205  3827.003205\n",
      "          G      1.023822  58.773248  4239.254777\n",
      "          H      1.219175  58.696370  5135.683168\n",
      "          I      1.198057  59.237143  4685.445714\n",
      "          J      1.341176  58.917647  4975.655462\n",
      "Good      D      0.744517  58.541541  3405.382175\n",
      "          E      0.745134  58.779957  3423.644159\n",
      "          F      0.775930  58.910891  3495.750275\n",
      "          G      0.850896  58.471986  4123.482204\n",
      "          H      0.914729  58.611111  4276.254986\n",
      "          I      1.057222  58.773946  5078.532567\n",
      "          J      1.099544  58.813029  4574.172638\n",
      "Ideal     D      0.565766  55.965632  2629.094566\n",
      "          E      0.578401  55.967461  2597.550090\n",
      "          F      0.655829  55.924203  3374.939362\n",
      "          G      0.700715  55.902375  3720.706388\n",
      "          H      0.799525  55.965843  3889.334831\n",
      "          I      0.913029  56.021357  4451.970377\n",
      "          J      1.063594  56.012612  4918.186384\n",
      "Premium   D      0.721547  58.718964  3631.292576\n",
      "          E      0.717745  58.779461  3538.914420\n",
      "          F      0.827036  58.679279  4324.890176\n",
      "          G      0.841488  58.702360  4500.742134\n",
      "          H      1.016449  58.792034  5216.706780\n",
      "          I      1.144937  58.771849  5946.180672\n",
      "          J      1.293094  58.874752  6294.591584\n",
      "Very Good D      0.696424  58.041309  3470.467284\n",
      "          E      0.676317  58.038875  3214.652083\n",
      "          F      0.740961  57.848429  3778.820240\n",
      "          G      0.766799  57.784428  3872.753806\n",
      "          H      0.915948  57.903015  4535.390351\n",
      "          I      1.046952  58.105150  5255.879568\n",
      "          J      1.133215  58.277729  5103.513274 \n",
      "\n",
      "Harga rata-rata diamond kriteria premium berwarna J adalah 6294.591600\n",
      "Carat rata-rata diamond kriteria very good berwarna H adalah 0.915900 \n"
     ]
    }
   ],
   "source": [
    "# code here\n",
    "mult = df.groupby(['cut','color']).mean()\n",
    "multfin = mult.loc[:, ['carat','table','price']]\n",
    "print(multfin,'\\n')\n",
    "\n",
    "# harga rata-rata diamond kriteria premium dan berwarna J\n",
    "#no3b = mult.get_group(('Premium','J'))\n",
    "no3b = mult.loc['Premium','J']['price']\n",
    "print('Harga rata-rata diamond kriteria premium berwarna J adalah %f'% round(no3b, 4))\n",
    "\n",
    "# carat diamond kriteria very good dan berwarna H\n",
    "no3c = mult.loc['Very Good','H']['carat']\n",
    "print('Carat rata-rata diamond kriteria very good berwarna H adalah %f '%round(no3c,4))"
   ]
  },
  {
   "cell_type": "markdown",
   "metadata": {
    "colab_type": "text",
    "id": "mqRSXpr3GhiY"
   },
   "source": [
    "jawab: \n",
    "- Harga rata-rata diamond kriteria premium berwarna J adalah 6294.5916\n",
    "- Carat rata-rata diamond kriteria very good berwarna H adalah 0.9159"
   ]
  },
  {
   "cell_type": "markdown",
   "metadata": {
    "colab_type": "text",
    "id": "zXQ97SvEGhie"
   },
   "source": [
    "<h2>Soal 4: Group By Multiple Aggregate Base on Multiple Criteria</h2>\n",
    "    \n",
    "Lakukan groupby pada data berdasarkan kriteria cut(kualitas) dan color (warna) secara berurutan kemudian aggregasi objek group by nya dengan fungsi rata2 dan median.\n",
    "\n",
    "Kemudian Jawab Pertanyaan berikut:\n",
    "\n",
    "- Berapa nilai median dari harga diamond berkualitas good dan berwarna F"
   ]
  },
  {
   "cell_type": "markdown",
   "metadata": {
    "colab_type": "text",
    "id": "6TA0499MGhj5"
   },
   "source": [
    "Expected Output:\n",
    "\n",
    "Note : gambar hanya sebagaian dari keseluruhan data\n",
    "\n",
    "![alt text](https://drive.google.com/uc?id=1fUPIse5ELrzj26ZyWBqsAVOUb6yf7UoD)"
   ]
  },
  {
   "cell_type": "code",
   "execution_count": 14,
   "metadata": {
    "colab": {},
    "colab_type": "code",
    "id": "UvOZJYRKGhjP"
   },
   "outputs": [
    {
     "name": "stdout",
     "output_type": "stream",
     "text": [
      "                    carat             depth             table         \\\n",
      "                     mean median       mean median       mean median   \n",
      "cut       color                                                        \n",
      "Fair      D      0.920123  0.900  64.048466   64.8  58.969325   58.0   \n",
      "          E      0.856607  0.900  63.319643   64.8  59.364732   59.0   \n",
      "          F      0.904712  0.900  63.508013   64.8  59.453205   59.0   \n",
      "          G      1.023822  0.980  64.339809   65.0  58.773248   58.0   \n",
      "          H      1.219175  1.010  64.585149   65.1  58.696370   58.0   \n",
      "          I      1.198057  1.010  64.220571   65.1  59.237143   58.0   \n",
      "          J      1.341176  1.030  64.357143   65.0  58.917647   58.0   \n",
      "Good      D      0.744517  0.700  62.365710   63.4  58.541541   58.0   \n",
      "          E      0.745134  0.700  62.203751   63.3  58.779957   58.0   \n",
      "          F      0.775930  0.710  62.202310   63.2  58.910891   59.0   \n",
      "          G      0.850896  0.900  62.526636   63.4  58.471986   58.0   \n",
      "          H      0.914729  0.900  62.499573   63.4  58.611111   58.0   \n",
      "          I      1.057222  1.000  62.475096   63.5  58.773946   58.0   \n",
      "          J      1.099544  1.020  62.395765   63.4  58.813029   58.0   \n",
      "Ideal     D      0.565766  0.500  61.678370   61.8  55.965632   56.0   \n",
      "          E      0.578401  0.500  61.686677   61.8  55.967461   56.0   \n",
      "          F      0.655829  0.530  61.675562   61.8  55.924203   56.0   \n",
      "          G      0.700715  0.540  61.700164   61.8  55.902375   56.0   \n",
      "          H      0.799525  0.700  61.733194   61.8  55.965843   56.0   \n",
      "          I      0.913029  0.740  61.793598   61.9  56.021357   56.0   \n",
      "          J      1.063594  1.030  61.821987   61.9  56.012612   56.0   \n",
      "Premium   D      0.721547  0.580  61.169245   61.3  58.718964   59.0   \n",
      "          E      0.717745  0.580  61.175909   61.3  58.779461   59.0   \n",
      "          F      0.827036  0.760  61.259974   61.5  58.679279   59.0   \n",
      "          G      0.841488  0.755  61.279480   61.4  58.702360   59.0   \n",
      "          H      1.016449  1.010  61.322034   61.5  58.792034   59.0   \n",
      "          I      1.144937  1.140  61.328641   61.6  58.771849   59.0   \n",
      "          J      1.293094  1.250  61.390099   61.6  58.874752   59.0   \n",
      "Very Good D      0.696424  0.610  61.750165   62.2  58.041309   58.0   \n",
      "          E      0.676317  0.570  61.730250   62.0  58.038875   58.0   \n",
      "          F      0.740961  0.700  61.721627   62.0  57.848429   58.0   \n",
      "          G      0.766799  0.700  61.841279   62.1  57.784428   58.0   \n",
      "          H      0.915948  0.900  61.968366   62.3  57.903015   58.0   \n",
      "          I      1.046952  1.005  61.934551   62.2  58.105150   58.0   \n",
      "          J      1.133215  1.060  61.902065   62.2  58.277729   58.0   \n",
      "\n",
      "                       price                 x                y         \\\n",
      "                        mean  median      mean median      mean median   \n",
      "cut       color                                                          \n",
      "Fair      D      4291.061350  3730.0  6.018344  6.080  5.963190  6.010   \n",
      "          E      3682.312500  2956.0  5.909063  6.070  5.858214  6.020   \n",
      "          F      3827.003205  3035.0  5.990513  6.060  5.931122  5.990   \n",
      "          G      4239.254777  3057.0  6.173822  6.125  6.114076  6.040   \n",
      "          H      5135.683168  3816.0  6.579373  6.330  6.497393  6.250   \n",
      "          I      4685.445714  3246.0  6.564457  6.340  6.493486  6.270   \n",
      "          J      4975.655462  3302.0  6.747311  6.490  6.675882  6.460   \n",
      "Good      D      3405.382175  2728.5  5.620076  5.690  5.633897  5.730   \n",
      "          E      3423.644159  2420.0  5.617889  5.680  5.632454  5.710   \n",
      "          F      3495.750275  2647.0  5.693443  5.760  5.709659  5.790   \n",
      "          G      4123.482204  3340.0  5.850264  6.050  5.862824  6.070   \n",
      "          H      4276.254986  3468.5  5.968789  6.110  5.974245  6.130   \n",
      "          I      5078.532567  3639.5  6.253544  6.275  6.260536  6.260   \n",
      "          J      4574.172638  3733.0  6.377003  6.440  6.386026  6.460   \n",
      "Ideal     D      2629.094566  1576.0  5.186704  5.110  5.196224  5.110   \n",
      "          E      2597.550090  1437.0  5.215762  5.100  5.232214  5.110   \n",
      "          F      3374.939362  1775.0  5.408751  5.230  5.422250  5.240   \n",
      "          G      3720.706388  1857.5  5.511214  5.240  5.524007  5.260   \n",
      "          H      3889.334831  2278.0  5.731377  5.680  5.740446  5.710   \n",
      "          I      4451.970377  2659.0  5.976197  5.840  5.989479  5.860   \n",
      "          J      4918.186384  4096.0  6.320045  6.495  6.332098  6.510   \n",
      "Premium   D      3631.292576  2009.0  5.599869  5.380  5.571472  5.340   \n",
      "          E      3538.914420  1928.0  5.587116  5.410  5.558353  5.360   \n",
      "          F      4324.890176  2841.0  5.876692  5.890  5.844655  5.860   \n",
      "          G      4500.742134  2745.0  5.864254  5.900  5.833345  5.870   \n",
      "          H      5216.706780  4511.0  6.244508  6.480  6.228110  6.450   \n",
      "          I      5946.180672  4640.0  6.489531  6.740  6.453270  6.690   \n",
      "          J      6294.591584  5063.0  6.809975  6.920  6.770644  6.900   \n",
      "Very Good D      3470.467284  2310.0  5.501210  5.460  5.531613  5.490   \n",
      "          E      3214.652083  1989.5  5.432467  5.330  5.463213  5.365   \n",
      "          F      3778.820240  2471.0  5.610504  5.690  5.642717  5.720   \n",
      "          G      3872.753806  2437.0  5.660204  5.680  5.688752  5.710   \n",
      "          H      4535.390351  3734.0  5.982286  6.130  6.006272  6.160   \n",
      "          I      5255.879568  3888.0  6.272259  6.350  6.299028  6.360   \n",
      "          J      5103.513274  4113.0  6.460782  6.560  6.495074  6.575   \n",
      "\n",
      "                        z         \n",
      "                     mean median  \n",
      "cut       color                   \n",
      "Fair      D      3.839877  3.900  \n",
      "          E      3.722143  3.760  \n",
      "          F      3.787821  3.815  \n",
      "          G      3.963153  3.970  \n",
      "          H      4.219373  4.090  \n",
      "          I      4.193486  4.080  \n",
      "          J      4.319664  4.150  \n",
      "Good      D      3.504864  3.540  \n",
      "          E      3.496066  3.480  \n",
      "          F      3.544609  3.580  \n",
      "          G      3.647922  3.790  \n",
      "          H      3.726937  3.830  \n",
      "          I      3.901513  3.895  \n",
      "          J      3.977459  4.010  \n",
      "Ideal     D      3.201800  3.160  \n",
      "          E      3.220346  3.150  \n",
      "          F      3.338732  3.220  \n",
      "          G      3.403120  3.230  \n",
      "          H      3.539917  3.510  \n",
      "          I      3.695270  3.600  \n",
      "          J      3.912757  4.010  \n",
      "Premium   D      3.415926  3.300  \n",
      "          E      3.408875  3.290  \n",
      "          F      3.588391  3.590  \n",
      "          G      3.579641  3.610  \n",
      "          H      3.811699  3.960  \n",
      "          I      3.963894  4.130  \n",
      "          J      4.168020  4.260  \n",
      "Very Good D      3.405089  3.360  \n",
      "          E      3.373996  3.280  \n",
      "          F      3.472902  3.530  \n",
      "          G      3.509883  3.540  \n",
      "          H      3.713849  3.830  \n",
      "          I      3.890972  3.935  \n",
      "          J      4.006873  4.060  \n",
      "Median harga dari diamond kualitas Good berwarna F adalah  2647.0\n"
     ]
    }
   ],
   "source": [
    "# code here\n",
    "import numpy as np\n",
    "no4 = df.groupby(['cut','color']).agg([np.mean, np.median]) #.rename(columns={'mean':'rataan', 'median'='nilai tengah'})\n",
    "print(no4)\n",
    "\n",
    "no4b = no4.loc['Good','F']['price','median']\n",
    "print('Median harga dari diamond kualitas Good berwarna F adalah ', round(no4b,4))"
   ]
  },
  {
   "cell_type": "markdown",
   "metadata": {
    "colab_type": "text",
    "id": "lB5yJfJWGhj2"
   },
   "source": [
    "jawab: Median harga dari diamond kualitas Good berwarna F adalah  2647.0"
   ]
  },
  {
   "cell_type": "markdown",
   "metadata": {
    "colab_type": "text",
    "id": "w9Qklr3CGhj8"
   },
   "source": [
    "<h2>Soal 5: Group By With Different Aggregation for specific Column</h2>\n",
    "    \n",
    "Lakukan groupby pada data berdasarkan criteria cut(kualitas), kemudian aggreagate dengan fungsi max pada column price dan fungsi min pada column carat.\n",
    "\n",
    "Kemudian Jawab Pertanyaan berikut:\n",
    "\n",
    "- Berapa nilai max dari price untuk diamond berkualitas Ideal"
   ]
  },
  {
   "cell_type": "markdown",
   "metadata": {
    "colab_type": "text",
    "id": "MA8OwHDRGhkd"
   },
   "source": [
    "Expected Output:\n",
    "\n",
    "![alt text](https://drive.google.com/uc?id=1B_z5PBkLe4hNJJJV3JgDGP9G--llytKf)"
   ]
  },
  {
   "cell_type": "code",
   "execution_count": 10,
   "metadata": {
    "colab": {},
    "colab_type": "code",
    "id": "AuOhb4TQGhkg"
   },
   "outputs": [
    {
     "name": "stdout",
     "output_type": "stream",
     "text": [
      "           price  carat\n",
      "cut                    \n",
      "Fair       18574   0.22\n",
      "Good       18788   0.23\n",
      "Ideal      18806   0.20\n",
      "Premium    18823   0.20\n",
      "Very Good  18818   0.20 \n",
      "\n",
      "Harga maksimum diamond kualitas ideal adalah  18806.0\n"
     ]
    }
   ],
   "source": [
    "# code here\n",
    "no5 = df.groupby('cut').agg({'price': 'max',\n",
    "                               'carat': 'min'})\n",
    "print(no5,'\\n')\n",
    "no5b = no5.loc['Ideal']['price']\n",
    "print('Harga maksimum diamond kualitas ideal adalah ',no5b)"
   ]
  },
  {
   "cell_type": "markdown",
   "metadata": {
    "colab_type": "text",
    "id": "S7c5_ilkGhkz"
   },
   "source": [
    "jawab: Harga maksimum diamond kualitas ideal adalah  18806.0"
   ]
  },
  {
   "cell_type": "markdown",
   "metadata": {
    "colab_type": "text",
    "id": "2vxLM-yuGhk2"
   },
   "source": [
    "<h2>Soal 6: Group By With Custom Function</h2>\n",
    "    \n",
    "Lakukan groupby pada data berdasarkan criteria cut(kualitas), kemudian lakukan aggregasi dengan fungsi standar deviasi pada column carat dan fungsi rentang nilai antara max dan min pada column price.\n",
    "\n",
    "Kemudian jawab pertanyaan berikut:\n",
    "- Berapa selisih harga tertinggi dan terendah dari diamond berkualitas Premium"
   ]
  },
  {
   "cell_type": "markdown",
   "metadata": {
    "colab_type": "text",
    "id": "deIpFAupGhk5"
   },
   "source": [
    "Expected Output:\n",
    "\n",
    "![alt text](https://drive.google.com/uc?id=1bl6_8KryXCxLfzpAf4YF80Qvt15a3uQ6)"
   ]
  },
  {
   "cell_type": "code",
   "execution_count": 15,
   "metadata": {
    "colab": {},
    "colab_type": "code",
    "id": "jCXk1nPFGhk8"
   },
   "outputs": [
    {
     "name": "stdout",
     "output_type": "stream",
     "text": [
      "           price     carat\n",
      "cut                       \n",
      "Fair       18237  0.516404\n",
      "Good       18461  0.454054\n",
      "Ideal      18480  0.432876\n",
      "Premium    18497  0.515262\n",
      "Very Good  18482  0.459435 \n",
      "\n",
      "Selisih harga tertinggi dan terendah dari diamond berkualitas Premium adalah  18497.0\n"
     ]
    }
   ],
   "source": [
    "# code here\n",
    "no6 = df.groupby('cut').agg({'price' : lambda x: x.max() - x.min(),\n",
    "                            'carat' : np.std})\n",
    "print(no6,'\\n')\n",
    "no6b = no6.loc['Premium']['price']\n",
    "print('Selisih harga tertinggi dan terendah dari diamond berkualitas Premium adalah ',no6b)"
   ]
  },
  {
   "cell_type": "markdown",
   "metadata": {
    "colab_type": "text",
    "id": "flh36TqMGhlZ"
   },
   "source": [
    "jawab: Selisih harga tertinggi dan terendah dari diamond berkualitas Premium adalah  18497.0"
   ]
  },
  {
   "cell_type": "code",
   "execution_count": 16,
   "metadata": {},
   "outputs": [
    {
     "data": {
      "text/html": [
       "<div>\n",
       "<style scoped>\n",
       "    .dataframe tbody tr th:only-of-type {\n",
       "        vertical-align: middle;\n",
       "    }\n",
       "\n",
       "    .dataframe tbody tr th {\n",
       "        vertical-align: top;\n",
       "    }\n",
       "\n",
       "    .dataframe thead th {\n",
       "        text-align: right;\n",
       "    }\n",
       "</style>\n",
       "<table border=\"1\" class=\"dataframe\">\n",
       "  <thead>\n",
       "    <tr style=\"text-align: right;\">\n",
       "      <th></th>\n",
       "      <th>Std carat</th>\n",
       "      <th>Rentang harga</th>\n",
       "    </tr>\n",
       "    <tr>\n",
       "      <th>cut</th>\n",
       "      <th></th>\n",
       "      <th></th>\n",
       "    </tr>\n",
       "  </thead>\n",
       "  <tbody>\n",
       "    <tr>\n",
       "      <th>Fair</th>\n",
       "      <td>0.516404</td>\n",
       "      <td>18237</td>\n",
       "    </tr>\n",
       "    <tr>\n",
       "      <th>Good</th>\n",
       "      <td>0.454054</td>\n",
       "      <td>18461</td>\n",
       "    </tr>\n",
       "    <tr>\n",
       "      <th>Ideal</th>\n",
       "      <td>0.432876</td>\n",
       "      <td>18480</td>\n",
       "    </tr>\n",
       "    <tr>\n",
       "      <th>Premium</th>\n",
       "      <td>0.515262</td>\n",
       "      <td>18497</td>\n",
       "    </tr>\n",
       "    <tr>\n",
       "      <th>Very Good</th>\n",
       "      <td>0.459435</td>\n",
       "      <td>18482</td>\n",
       "    </tr>\n",
       "  </tbody>\n",
       "</table>\n",
       "</div>"
      ],
      "text/plain": [
       "           Std carat  Rentang harga\n",
       "cut                                \n",
       "Fair        0.516404          18237\n",
       "Good        0.454054          18461\n",
       "Ideal       0.432876          18480\n",
       "Premium     0.515262          18497\n",
       "Very Good   0.459435          18482"
      ]
     },
     "execution_count": 16,
     "metadata": {},
     "output_type": "execute_result"
    }
   ],
   "source": [
    "def maxmin(x):\n",
    "    return x.max()-x.min()\n",
    "# maxmin.__name__ = 'Rentang harga'\n",
    "\n",
    "aggregation = {\n",
    "    'Std carat': pd.NamedAgg(column='carat', aggfunc=np.std),\n",
    "    'Rentang harga': pd.NamedAgg(column='price', aggfunc=maxmin)} #supaya bisa applying NamedAgg, pandasnya update dulu\n",
    "df.groupby('cut').agg(**aggregation)\n"
   ]
  }
 ],
 "metadata": {
  "colab": {
   "collapsed_sections": [],
   "name": "Tugas Hari 4 Pekan 2.ipynb",
   "provenance": []
  },
  "kernelspec": {
   "display_name": "Python 3",
   "language": "python",
   "name": "python3"
  },
  "language_info": {
   "codemirror_mode": {
    "name": "ipython",
    "version": 3
   },
   "file_extension": ".py",
   "mimetype": "text/x-python",
   "name": "python",
   "nbconvert_exporter": "python",
   "pygments_lexer": "ipython3",
   "version": "3.7.3"
  }
 },
 "nbformat": 4,
 "nbformat_minor": 1
}
