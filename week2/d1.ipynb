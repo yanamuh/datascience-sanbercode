{
 "cells": [
  {
   "cell_type": "markdown",
   "metadata": {
    "colab_type": "text",
    "id": "s6LccGLI5deK"
   },
   "source": [
    "<h2>Soal 1: Membuat Objek DataFrames</h2>\n",
    "\n",
    "- Buatlah objek dataframes dari objek dictionary, Bebas!"
   ]
  },
  {
   "cell_type": "code",
   "execution_count": 2,
   "metadata": {
    "colab": {},
    "colab_type": "code",
    "id": "V2jNr8n-5deM",
    "scrolled": true
   },
   "outputs": [
    {
     "name": "stdout",
     "output_type": "stream",
     "text": [
      "      Nama  Nilai Ujian\n",
      "0     Upin           75\n",
      "1     Ipin           70\n",
      "2     Mail           85\n",
      "3     Fizi           65\n",
      "4    Ehsan           90\n",
      "5  Mei mei           95\n",
      "6   Jarjit           80\n"
     ]
    }
   ],
   "source": [
    "# Membuat dataframes dari dictionary\n",
    "import pandas as pd\n",
    "\n",
    "df = pd.DataFrame({'Nama':['Upin','Ipin','Mail','Fizi','Ehsan','Mei mei','Jarjit'],'Nilai Ujian':[75,70,85,65,90,95,80]})\n",
    "print(df)"
   ]
  },
  {
   "cell_type": "markdown",
   "metadata": {
    "colab_type": "text",
    "id": "KWEFNf9B5deX"
   },
   "source": [
    "<h2>Soal 2: Membaca data dari file</h2>\n",
    "\n",
    "Download file bernama [diamonds.csv](https://drive.google.com/uc?export=download&id=1qQiM9utQUThTPq8jk8stPMh_y2zfqYOd), kemudian baca data tersebut dan assign ke dalam suatu variabel kemudian print."
   ]
  },
  {
   "cell_type": "code",
   "execution_count": 4,
   "metadata": {
    "colab": {},
    "colab_type": "code",
    "id": "Jy2KtDNs5deZ"
   },
   "outputs": [
    {
     "name": "stdout",
     "output_type": "stream",
     "text": [
      "       Unnamed: 0  carat        cut color clarity  depth  table  price     x  \\\n",
      "0               1   0.23      Ideal     E     SI2   61.5   55.0    326  3.95   \n",
      "1               2   0.21    Premium     E     SI1   59.8   61.0    326  3.89   \n",
      "2               3   0.23       Good     E     VS1   56.9   65.0    327  4.05   \n",
      "3               4   0.29    Premium     I     VS2   62.4   58.0    334  4.20   \n",
      "4               5   0.31       Good     J     SI2   63.3   58.0    335  4.34   \n",
      "5               6   0.24  Very Good     J    VVS2   62.8   57.0    336  3.94   \n",
      "6               7   0.24  Very Good     I    VVS1   62.3   57.0    336  3.95   \n",
      "7               8   0.26  Very Good     H     SI1   61.9   55.0    337  4.07   \n",
      "8               9   0.22       Fair     E     VS2   65.1   61.0    337  3.87   \n",
      "9              10   0.23  Very Good     H     VS1   59.4   61.0    338  4.00   \n",
      "10             11   0.30       Good     J     SI1   64.0   55.0    339  4.25   \n",
      "11             12   0.23      Ideal     J     VS1   62.8   56.0    340  3.93   \n",
      "12             13   0.22    Premium     F     SI1   60.4   61.0    342  3.88   \n",
      "13             14   0.31      Ideal     J     SI2   62.2   54.0    344  4.35   \n",
      "14             15   0.20    Premium     E     SI2   60.2   62.0    345  3.79   \n",
      "15             16   0.32    Premium     E      I1   60.9   58.0    345  4.38   \n",
      "16             17   0.30      Ideal     I     SI2   62.0   54.0    348  4.31   \n",
      "17             18   0.30       Good     J     SI1   63.4   54.0    351  4.23   \n",
      "18             19   0.30       Good     J     SI1   63.8   56.0    351  4.23   \n",
      "19             20   0.30  Very Good     J     SI1   62.7   59.0    351  4.21   \n",
      "20             21   0.30       Good     I     SI2   63.3   56.0    351  4.26   \n",
      "21             22   0.23  Very Good     E     VS2   63.8   55.0    352  3.85   \n",
      "22             23   0.23  Very Good     H     VS1   61.0   57.0    353  3.94   \n",
      "23             24   0.31  Very Good     J     SI1   59.4   62.0    353  4.39   \n",
      "24             25   0.31  Very Good     J     SI1   58.1   62.0    353  4.44   \n",
      "25             26   0.23  Very Good     G    VVS2   60.4   58.0    354  3.97   \n",
      "26             27   0.24    Premium     I     VS1   62.5   57.0    355  3.97   \n",
      "27             28   0.30  Very Good     J     VS2   62.2   57.0    357  4.28   \n",
      "28             29   0.23  Very Good     D     VS2   60.5   61.0    357  3.96   \n",
      "29             30   0.23  Very Good     F     VS1   60.9   57.0    357  3.96   \n",
      "...           ...    ...        ...   ...     ...    ...    ...    ...   ...   \n",
      "53910       53911   0.70    Premium     E     SI1   60.5   58.0   2753  5.74   \n",
      "53911       53912   0.57    Premium     E      IF   59.8   60.0   2753  5.43   \n",
      "53912       53913   0.61    Premium     F    VVS1   61.8   59.0   2753  5.48   \n",
      "53913       53914   0.80       Good     G     VS2   64.2   58.0   2753  5.84   \n",
      "53914       53915   0.84       Good     I     VS1   63.7   59.0   2753  5.94   \n",
      "53915       53916   0.77      Ideal     E     SI2   62.1   56.0   2753  5.84   \n",
      "53916       53917   0.74       Good     D     SI1   63.1   59.0   2753  5.71   \n",
      "53917       53918   0.90  Very Good     J     SI1   63.2   60.0   2753  6.12   \n",
      "53918       53919   0.76    Premium     I     VS1   59.3   62.0   2753  5.93   \n",
      "53919       53920   0.76      Ideal     I    VVS1   62.2   55.0   2753  5.89   \n",
      "53920       53921   0.70  Very Good     E     VS2   62.4   60.0   2755  5.57   \n",
      "53921       53922   0.70  Very Good     E     VS2   62.8   60.0   2755  5.59   \n",
      "53922       53923   0.70  Very Good     D     VS1   63.1   59.0   2755  5.67   \n",
      "53923       53924   0.73      Ideal     I     VS2   61.3   56.0   2756  5.80   \n",
      "53924       53925   0.73      Ideal     I     VS2   61.6   55.0   2756  5.82   \n",
      "53925       53926   0.79      Ideal     I     SI1   61.6   56.0   2756  5.95   \n",
      "53926       53927   0.71      Ideal     E     SI1   61.9   56.0   2756  5.71   \n",
      "53927       53928   0.79       Good     F     SI1   58.1   59.0   2756  6.06   \n",
      "53928       53929   0.79    Premium     E     SI2   61.4   58.0   2756  6.03   \n",
      "53929       53930   0.71      Ideal     G     VS1   61.4   56.0   2756  5.76   \n",
      "53930       53931   0.71    Premium     E     SI1   60.5   55.0   2756  5.79   \n",
      "53931       53932   0.71    Premium     F     SI1   59.8   62.0   2756  5.74   \n",
      "53932       53933   0.70  Very Good     E     VS2   60.5   59.0   2757  5.71   \n",
      "53933       53934   0.70  Very Good     E     VS2   61.2   59.0   2757  5.69   \n",
      "53934       53935   0.72    Premium     D     SI1   62.7   59.0   2757  5.69   \n",
      "53935       53936   0.72      Ideal     D     SI1   60.8   57.0   2757  5.75   \n",
      "53936       53937   0.72       Good     D     SI1   63.1   55.0   2757  5.69   \n",
      "53937       53938   0.70  Very Good     D     SI1   62.8   60.0   2757  5.66   \n",
      "53938       53939   0.86    Premium     H     SI2   61.0   58.0   2757  6.15   \n",
      "53939       53940   0.75      Ideal     D     SI2   62.2   55.0   2757  5.83   \n",
      "\n",
      "          y     z  \n",
      "0      3.98  2.43  \n",
      "1      3.84  2.31  \n",
      "2      4.07  2.31  \n",
      "3      4.23  2.63  \n",
      "4      4.35  2.75  \n",
      "5      3.96  2.48  \n",
      "6      3.98  2.47  \n",
      "7      4.11  2.53  \n",
      "8      3.78  2.49  \n",
      "9      4.05  2.39  \n",
      "10     4.28  2.73  \n",
      "11     3.90  2.46  \n",
      "12     3.84  2.33  \n",
      "13     4.37  2.71  \n",
      "14     3.75  2.27  \n",
      "15     4.42  2.68  \n",
      "16     4.34  2.68  \n",
      "17     4.29  2.70  \n",
      "18     4.26  2.71  \n",
      "19     4.27  2.66  \n",
      "20     4.30  2.71  \n",
      "21     3.92  2.48  \n",
      "22     3.96  2.41  \n",
      "23     4.43  2.62  \n",
      "24     4.47  2.59  \n",
      "25     4.01  2.41  \n",
      "26     3.94  2.47  \n",
      "27     4.30  2.67  \n",
      "28     3.97  2.40  \n",
      "29     3.99  2.42  \n",
      "...     ...   ...  \n",
      "53910  5.77  3.48  \n",
      "53911  5.38  3.23  \n",
      "53912  5.40  3.36  \n",
      "53913  5.81  3.74  \n",
      "53914  5.90  3.77  \n",
      "53915  5.86  3.63  \n",
      "53916  5.74  3.61  \n",
      "53917  6.09  3.86  \n",
      "53918  5.85  3.49  \n",
      "53919  5.87  3.66  \n",
      "53920  5.61  3.49  \n",
      "53921  5.65  3.53  \n",
      "53922  5.58  3.55  \n",
      "53923  5.84  3.57  \n",
      "53924  5.84  3.59  \n",
      "53925  5.97  3.67  \n",
      "53926  5.73  3.54  \n",
      "53927  6.13  3.54  \n",
      "53928  5.96  3.68  \n",
      "53929  5.73  3.53  \n",
      "53930  5.74  3.49  \n",
      "53931  5.73  3.43  \n",
      "53932  5.76  3.47  \n",
      "53933  5.72  3.49  \n",
      "53934  5.73  3.58  \n",
      "53935  5.76  3.50  \n",
      "53936  5.75  3.61  \n",
      "53937  5.68  3.56  \n",
      "53938  6.12  3.74  \n",
      "53939  5.87  3.64  \n",
      "\n",
      "[53940 rows x 11 columns]\n"
     ]
    }
   ],
   "source": [
    "# Membaca data dan memasukannya kedalam suatu variabel\n",
    "import pandas as pd\n",
    "data_diamond = pd.read_csv('diamonds-1.csv')\n",
    "print(data_diamond)"
   ]
  },
  {
   "cell_type": "markdown",
   "metadata": {
    "colab_type": "text",
    "id": "1o9m_N295del"
   },
   "source": [
    "Expected Result:\n",
    "\n",
    "![alt text](https://drive.google.com/uc?id=1BvgM5mJEVfj0fllrjkBfQwn0QIFkry_t)"
   ]
  },
  {
   "cell_type": "markdown",
   "metadata": {
    "colab_type": "text",
    "id": "LtLWF_Ot5deo"
   },
   "source": [
    "<h2>Soal 3: DataFrame vs Series</h2>\n",
    "\n",
    "- Apa perbedaan Series dengan list dan dictionary\n",
    "- Apa perbedaan dataframe dan series\n",
    "- Buatlah suatu data series"
   ]
  },
  {
   "cell_type": "markdown",
   "metadata": {
    "colab_type": "text",
    "id": "6F2EDcPp5der"
   },
   "source": [
    "<h4> Jawab: </h4>\n",
    "- Tipe data pada Series harus seragam, sedangkan tipe data pada list & dictionary dapat berbeda-beda\n",
    "- Dataframe berisi data dua dimensi (kolom dan baris), sedangkan Series hanya berisi data 1 dimensi\n"
   ]
  },
  {
   "cell_type": "code",
   "execution_count": 5,
   "metadata": {
    "colab": {},
    "colab_type": "code",
    "id": "RBPrIKlZ5dev"
   },
   "outputs": [
    {
     "name": "stdout",
     "output_type": "stream",
     "text": [
      "Daftar member NCT127 : \n",
      "   Taeil\n",
      "  Johnny\n",
      " Taeyong\n",
      "    Yuta\n",
      " Doyoung\n",
      " Jaehyun\n",
      " Jungwoo\n",
      "    Mark\n",
      " Haechan\n"
     ]
    }
   ],
   "source": [
    "# code here\n",
    "# Contoh data series\n",
    "series = pd.Series(['Taeil', 'Johnny', 'Taeyong','Yuta','Doyoung', 'Jaehyun', 'Jungwoo', 'Mark', 'Haechan'])\n",
    "print('Daftar member NCT127 : ')\n",
    "print(series.to_string(index=False))"
   ]
  },
  {
   "cell_type": "markdown",
   "metadata": {
    "colab_type": "text",
    "id": "JNuHgN945de8"
   },
   "source": [
    "<h2>Soal 4: Pemeriksaan Data Sederhana</h2>\n",
    "\n",
    "Di quiz no 2 kamu telah membaca data tentang diamonds. pada soal ini cobalah suatu metode dari pandas untuk mengetahui beberapa data pertama dan beberapa data terakhir. kemudian sebutkan nilai dari:\n",
    "- baris pertama dari column price\n",
    "- baris terakhir dari column color\n",
    "\n",
    "tunjukan cara kalian menemukan nilai tersebut di block di bawah ini."
   ]
  },
  {
   "cell_type": "code",
   "execution_count": 6,
   "metadata": {
    "colab": {},
    "colab_type": "code",
    "id": "MRvNarxL5de-"
   },
   "outputs": [
    {
     "name": "stdout",
     "output_type": "stream",
     "text": [
      "Data baris pertama\n",
      "    Unnamed: 0  carat    cut color clarity  depth  table  price     x     y  \\\n",
      "0           1   0.23  Ideal     E     SI2   61.5   55.0    326  3.95  3.98   \n",
      "\n",
      "      z  \n",
      "0  2.43   \n",
      "\n",
      "Data baris terakhir\n",
      "        Unnamed: 0  carat    cut color clarity  depth  table  price     x  \\\n",
      "53939       53940   0.75  Ideal     D     SI2   62.2   55.0   2757  5.83   \n",
      "\n",
      "          y     z  \n",
      "53939  5.87  3.64   \n",
      "\n",
      "Data baris pertama dari kolom price adalah 326\n",
      "Data baris terakhir dari kolom color adalah  D\n"
     ]
    }
   ],
   "source": [
    "# code here\n",
    "first = data_diamond.head(1)\n",
    "last = data_diamond.tail(1)\n",
    "print('Data baris pertama\\n',first,'\\n')\n",
    "print('Data baris terakhir\\n',last,'\\n')\n",
    "\n",
    "print('Data baris pertama dari kolom price adalah %d'% first['price'])\n",
    "print('Data baris terakhir dari kolom color adalah %s'% last['color'].to_string(index=False)) \n",
    "# Nilai data baris pertama dari kolom price adalah 326\n",
    "# Nilai data baris terakhir dari kolom color adalah D\n"
   ]
  },
  {
   "cell_type": "markdown",
   "metadata": {
    "colab_type": "text",
    "id": "q-u9QIjJ5dfK"
   },
   "source": [
    "<h2>Soal 5: Deskriptif Statistik</h2>\n",
    "\n",
    "Jelaskan apa itu deskriptis statistik!"
   ]
  },
  {
   "cell_type": "markdown",
   "metadata": {
    "colab_type": "text",
    "id": "iKTeB5Gd5dfM"
   },
   "source": [
    "<h4> Jawab: </h4>\n",
    "Deskriptif statistik adalah metode yang berhubungan dengan pengumpulan atau penyajian data sampai memberi informasi yang berguna, contohnya:\n",
    "\n",
    "- tabel\n",
    "- diagram\n",
    "- grafik\n",
    "- besaran-besaran lain dalam majalah dan koran-koran\n",
    "\n",
    "\n",
    "informasi yang didapatkan antara lain ukuran pemusatan data (mean, median, modus), ukuran penyebaran data, dan kecenderungan gugus data"
   ]
  },
  {
   "cell_type": "markdown",
   "metadata": {
    "colab_type": "text",
    "id": "5SKD0rNu5dfP"
   },
   "source": [
    "<h2>Soal 6: Practice Deskriptif Statistik</h2>\n",
    "\n",
    "- Gunakan suatu metode dari pandas untuk mengetahui deskriptif statistik dari suatu data\n",
    "- Berapa nilai rata-rata dari column price\n",
    "- Berapa nilai standar deviasi dari column depth\n",
    "- Berapa nilai maximum dari column carat"
   ]
  },
  {
   "cell_type": "code",
   "execution_count": 7,
   "metadata": {
    "colab": {},
    "colab_type": "code",
    "id": "giNtJG9Y5dfS",
    "scrolled": true
   },
   "outputs": [
    {
     "name": "stdout",
     "output_type": "stream",
     "text": [
      "Deskriptif statistik data diamond: \n",
      "          Unnamed: 0         carat         depth         table         price  \\\n",
      "count  53940.000000  53940.000000  53940.000000  53940.000000  53940.000000   \n",
      "mean   26970.500000      0.797940     61.749405     57.457184   3932.799722   \n",
      "std    15571.281097      0.474011      1.432621      2.234491   3989.439738   \n",
      "min        1.000000      0.200000     43.000000     43.000000    326.000000   \n",
      "25%    13485.750000      0.400000     61.000000     56.000000    950.000000   \n",
      "50%    26970.500000      0.700000     61.800000     57.000000   2401.000000   \n",
      "75%    40455.250000      1.040000     62.500000     59.000000   5324.250000   \n",
      "max    53940.000000      5.010000     79.000000     95.000000  18823.000000   \n",
      "\n",
      "                  x             y             z  \n",
      "count  53940.000000  53940.000000  53940.000000  \n",
      "mean       5.731157      5.734526      3.538734  \n",
      "std        1.121761      1.142135      0.705699  \n",
      "min        0.000000      0.000000      0.000000  \n",
      "25%        4.710000      4.720000      2.910000  \n",
      "50%        5.700000      5.710000      3.530000  \n",
      "75%        6.540000      6.540000      4.040000  \n",
      "max       10.740000     58.900000     31.800000   \n",
      "\n",
      "Nilai rata-rata dari column price:  3932.7997\n",
      "Nilai standar deviasi dari column depth:  1.4326\n",
      "Nilai maximum dari column carat:  5.01\n"
     ]
    }
   ],
   "source": [
    "# code here\n",
    "desc_stats = data_diamond.describe()\n",
    "print('Deskriptif statistik data diamond: \\n',desc_stats,'\\n')\n",
    "price_mn = data_diamond['price'].mean()\n",
    "print('Nilai rata-rata dari column price: ',round(price_mn,4))\n",
    "depth_std = data_diamond['depth'].std()\n",
    "print('Nilai standar deviasi dari column depth: ',round(depth_std,4))\n",
    "carat_max = data_diamond['carat'].max()\n",
    "print('Nilai maximum dari column carat: ',round(carat_max,4))"
   ]
  },
  {
   "cell_type": "markdown",
   "metadata": {
    "colab_type": "text",
    "id": "M6miZVtG5dfd"
   },
   "source": [
    "- Nilai rata-rata dari column price:  3932.7997\n",
    "- Nilai standar deviasi dari column depth:  1.4326\n",
    "- Nilai maximum dari column carat:  5.01"
   ]
  }
 ],
 "metadata": {
  "colab": {
   "name": "Tugas Hari 1 Pekan 2.ipynb",
   "provenance": []
  },
  "kernelspec": {
   "display_name": "Python 3",
   "language": "python",
   "name": "python3"
  },
  "language_info": {
   "codemirror_mode": {
    "name": "ipython",
    "version": 3
   },
   "file_extension": ".py",
   "mimetype": "text/x-python",
   "name": "python",
   "nbconvert_exporter": "python",
   "pygments_lexer": "ipython3",
   "version": "3.7.3"
  }
 },
 "nbformat": 4,
 "nbformat_minor": 1
}
