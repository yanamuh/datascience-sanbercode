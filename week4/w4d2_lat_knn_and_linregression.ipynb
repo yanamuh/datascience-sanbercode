{
 "cells": [
  {
   "cell_type": "markdown",
   "metadata": {},
   "source": [
    "## KNN (k-nearest neighbor)"
   ]
  },
  {
   "cell_type": "markdown",
   "metadata": {},
   "source": [
    "Jawab:\n",
    "- PROSES ALGORITMA KNN\n",
    "\n",
    "1. KNN akan menghitung jarak antara nilai yang dicari dengan setiap poin/tetangga menggunakan formula euclidean distance\n",
    "2. Memilih sejumlah k-tetangga terdekat, \n",
    "3. Lalu melakukan voting, melihat label terbanyak dalam tetangga tersebut. Jika 70% dari k-tetangga terdekat berlabel A, maka nilai yang dicari pun akan berlabel A\n",
    "\n",
    "\n",
    "- KEKURANGAN ALGORITMA KNN\n",
    "\n",
    "1. Sangat sensitif terhadap data pencilan (outlier). Performanya buruk jika ada data pencilan\n",
    "2. Jika k genap, KNN akan kebingunan jika jumlah label dari tetangga terdekat sama. \n",
    "Misal ditentukan k=4 dan ada 2 label. Setelah dihitung dengan algoritma KNN, didapatkan bahwa 4 tetangga terdekatnya memiliki jumlah label yang sama (label A=2 tetangga, label B=2 tetangga). Maka KNN akan memilih antara kedua label tersebut secara random.\n",
    "Untuk mengatasinya, gunakan `weight` . Defaultnya adalah `uniform` artinya semua jarak berbobot sama, `weigth='distance'` maka tetangga dg jarak lebih dekat memiliki bobot yg lebih besar. (user juga dpt menentukan fungsi pembobot yg lain)"
   ]
  },
  {
   "cell_type": "markdown",
   "metadata": {},
   "source": [
    "MEMILIH HYPERPARAMETER K\n",
    "- harus tau sebaran data kita. jika ada outlier, maka lebih baik k=kecil, utk mengurangi peluang outlier masuk ke prediksi. \n",
    "- harus tau kenapa ada outlier, kalo karena error -> buang datanya. kalo emang datanya begitu, yaudah pilih k kecil\n",
    "- jika data tidak mengumpul/ melebar/ st deviasinya besar -> memilih k besar, utk meningkatkan tk generalisasi data\n",
    "- besar / kecil k tergantung pada jumlah data\n",
    "- k jangan sama dengan jumlah data, bisa overfitting"
   ]
  },
  {
   "cell_type": "markdown",
   "metadata": {},
   "source": [
    "### Aplikasi algoritma KNN"
   ]
  },
  {
   "cell_type": "code",
   "execution_count": 2,
   "metadata": {
    "scrolled": true
   },
   "outputs": [
    {
     "data": {
      "text/html": [
       "<div>\n",
       "<style scoped>\n",
       "    .dataframe tbody tr th:only-of-type {\n",
       "        vertical-align: middle;\n",
       "    }\n",
       "\n",
       "    .dataframe tbody tr th {\n",
       "        vertical-align: top;\n",
       "    }\n",
       "\n",
       "    .dataframe thead th {\n",
       "        text-align: right;\n",
       "    }\n",
       "</style>\n",
       "<table border=\"1\" class=\"dataframe\">\n",
       "  <thead>\n",
       "    <tr style=\"text-align: right;\">\n",
       "      <th></th>\n",
       "      <th>sepal length (cm)</th>\n",
       "      <th>sepal width (cm)</th>\n",
       "      <th>petal length (cm)</th>\n",
       "      <th>petal width (cm)</th>\n",
       "      <th>species</th>\n",
       "    </tr>\n",
       "  </thead>\n",
       "  <tbody>\n",
       "    <tr>\n",
       "      <th>0</th>\n",
       "      <td>5.1</td>\n",
       "      <td>3.5</td>\n",
       "      <td>1.4</td>\n",
       "      <td>0.2</td>\n",
       "      <td>0.0</td>\n",
       "    </tr>\n",
       "    <tr>\n",
       "      <th>1</th>\n",
       "      <td>4.9</td>\n",
       "      <td>3.0</td>\n",
       "      <td>1.4</td>\n",
       "      <td>0.2</td>\n",
       "      <td>0.0</td>\n",
       "    </tr>\n",
       "    <tr>\n",
       "      <th>2</th>\n",
       "      <td>4.7</td>\n",
       "      <td>3.2</td>\n",
       "      <td>1.3</td>\n",
       "      <td>0.2</td>\n",
       "      <td>0.0</td>\n",
       "    </tr>\n",
       "    <tr>\n",
       "      <th>3</th>\n",
       "      <td>4.6</td>\n",
       "      <td>3.1</td>\n",
       "      <td>1.5</td>\n",
       "      <td>0.2</td>\n",
       "      <td>0.0</td>\n",
       "    </tr>\n",
       "    <tr>\n",
       "      <th>4</th>\n",
       "      <td>5.0</td>\n",
       "      <td>3.6</td>\n",
       "      <td>1.4</td>\n",
       "      <td>0.2</td>\n",
       "      <td>0.0</td>\n",
       "    </tr>\n",
       "  </tbody>\n",
       "</table>\n",
       "</div>"
      ],
      "text/plain": [
       "   sepal length (cm)  sepal width (cm)  petal length (cm)  petal width (cm)  \\\n",
       "0                5.1               3.5                1.4               0.2   \n",
       "1                4.9               3.0                1.4               0.2   \n",
       "2                4.7               3.2                1.3               0.2   \n",
       "3                4.6               3.1                1.5               0.2   \n",
       "4                5.0               3.6                1.4               0.2   \n",
       "\n",
       "   species  \n",
       "0      0.0  \n",
       "1      0.0  \n",
       "2      0.0  \n",
       "3      0.0  \n",
       "4      0.0  "
      ]
     },
     "execution_count": 2,
     "metadata": {},
     "output_type": "execute_result"
    }
   ],
   "source": [
    "from sklearn.datasets import load_iris\n",
    "import numpy as np\n",
    "import pandas as pd\n",
    "\n",
    "iris = load_iris()\n",
    "df = pd.DataFrame(np.c_[iris['data'], iris['target']], columns=iris['feature_names']+['species'])\n",
    "df.head()"
   ]
  },
  {
   "cell_type": "code",
   "execution_count": 3,
   "metadata": {},
   "outputs": [],
   "source": [
    "# cek data outlier\n",
    "from scipy import stats\n",
    "# melihat seberapa jauh data dari nilai rata2 sampel/populasi -> Tabel Z\n",
    "# semakin besar nilai z score, probabilitas makin kecil (probabilitas data ada dipoin itu)\n",
    "# misal ada data dg z score > 3, maka itu adalah data pencilan\n",
    "z = stats.zscore(df) "
   ]
  },
  {
   "cell_type": "code",
   "execution_count": 4,
   "metadata": {},
   "outputs": [
    {
     "name": "stdout",
     "output_type": "stream",
     "text": [
      "(array([15], dtype=int64), array([1], dtype=int64))\n"
     ]
    }
   ],
   "source": [
    "print(np.where(z>3))"
   ]
  },
  {
   "cell_type": "code",
   "execution_count": 5,
   "metadata": {},
   "outputs": [
    {
     "data": {
      "text/plain": [
       "3.0907752482994253"
      ]
     },
     "execution_count": 5,
     "metadata": {},
     "output_type": "execute_result"
    }
   ],
   "source": [
    "# maka ada 1 outlier, jadi aman. dengan begitu kita dapat menggunakan KNN\n",
    "z[15][1]"
   ]
  },
  {
   "cell_type": "markdown",
   "metadata": {},
   "source": [
    "<h2> Cara mengaplikasikan ML dengan library SKLearn </h2>\n",
    "\n",
    "1. Pilih <b> model </b> atau algoritma yang akan digunakan\n",
    "``` contoh model : decision tree, random forest, logistic regression, linear reg ```\n",
    "2. Pilih <b> hyperparameter </b> ketika membuat objek model.\n",
    "3. <b> Pisahkan antara data feature dan data target </b>. SKLearn hanya menerima data input bentuk matrix, bukan vektor\n",
    "4. Perintahkan model untuk <b>mempelajari data </b> dengan menggunakan <i> method .fit() </i>\n",
    "5. <b> Aplikasikan model ke dalam test data </b> dengan menggunakan method <i> .predict()</i> utk supervised learning atau <i>.transform()</i> untuk unsupervised learning\n"
   ]
  },
  {
   "cell_type": "code",
   "execution_count": 6,
   "metadata": {},
   "outputs": [],
   "source": [
    "# import class model\n",
    "from sklearn.neighbors import KNeighborsClassifier as knn"
   ]
  },
  {
   "cell_type": "code",
   "execution_count": 7,
   "metadata": {},
   "outputs": [],
   "source": [
    "#  membuat objek model dan memilih hiperparameter\n",
    "model_knn = knn(n_neighbors=6, weights='distance')"
   ]
  },
  {
   "cell_type": "code",
   "execution_count": 8,
   "metadata": {},
   "outputs": [],
   "source": [
    "# memisahkan antara data fitur dan data target\n",
    "x = df.drop('species', axis=1)\n",
    "y = df['species']"
   ]
  },
  {
   "cell_type": "code",
   "execution_count": 9,
   "metadata": {},
   "outputs": [
    {
     "data": {
      "text/plain": [
       "KNeighborsClassifier(n_neighbors=6, weights='distance')"
      ]
     },
     "execution_count": 9,
     "metadata": {},
     "output_type": "execute_result"
    }
   ],
   "source": [
    "# Perintahkan model utk mempelajari data dengan method .fit()\n",
    "model_knn.fit(x,y)"
   ]
  },
  {
   "cell_type": "code",
   "execution_count": 10,
   "metadata": {},
   "outputs": [],
   "source": [
    "# prediksi / aplikasikan model ke dalam data tes\n",
    "x_new = np.array([\n",
    "                [2.5, 4, 3, 0.1],\n",
    "                [1, 3.5, 1.7, 0.4],\n",
    "                [4, 1, 3, 0.3]\n",
    "                ])\n",
    "\n",
    "y_new = model_knn.predict(x_new)"
   ]
  },
  {
   "cell_type": "code",
   "execution_count": 11,
   "metadata": {},
   "outputs": [
    {
     "data": {
      "text/plain": [
       "array([0., 0., 1.])"
      ]
     },
     "execution_count": 11,
     "metadata": {},
     "output_type": "execute_result"
    }
   ],
   "source": [
    "y_new"
   ]
  },
  {
   "cell_type": "markdown",
   "metadata": {},
   "source": [
    "nah, didapat 0 , 0, 1. dimana 0 -> sentosa dan 1 -> versicolor\n",
    "\n",
    "\n",
    "dengan begitu y_new adalah sentosa"
   ]
  },
  {
   "cell_type": "code",
   "execution_count": 14,
   "metadata": {},
   "outputs": [
    {
     "data": {
      "text/plain": [
       "1.0"
      ]
     },
     "execution_count": 14,
     "metadata": {},
     "output_type": "execute_result"
    }
   ],
   "source": [
    "model_knn.score(x_new,y_new)"
   ]
  },
  {
   "cell_type": "markdown",
   "metadata": {},
   "source": [
    "## Linear Regression"
   ]
  },
  {
   "cell_type": "code",
   "execution_count": 18,
   "metadata": {},
   "outputs": [
    {
     "data": {
      "image/png": "[encoded data removed]",
      "text/plain": [
       "<Figure size 432x288 with 1 Axes>"
      ]
     },
     "metadata": {
      "needs_background": "light"
     },
     "output_type": "display_data"
    }
   ],
   "source": [
    "import matplotlib.pyplot as plt\n",
    "\n",
    "rng = np.random.RandomState(1)\n",
    "x = 10*rng.rand(50)\n",
    "y = 5*x + 10 + rng.rand(50) # x=slope, 10=intercept\n",
    "\n",
    "plt.scatter(x,y)\n",
    "plt.show()"
   ]
  },
  {
   "cell_type": "code",
   "execution_count": 21,
   "metadata": {},
   "outputs": [],
   "source": [
    "from sklearn.linear_model import LinearRegression"
   ]
  },
  {
   "cell_type": "code",
   "execution_count": 22,
   "metadata": {},
   "outputs": [],
   "source": [
    "model_lr = LinearRegression(fit_intercept=True) #fit_intercept -> utk menghitung nilai intercept dari data"
   ]
  },
  {
   "cell_type": "code",
   "execution_count": 25,
   "metadata": {},
   "outputs": [
    {
     "data": {
      "text/plain": [
       "LinearRegression()"
      ]
     },
     "execution_count": 25,
     "metadata": {},
     "output_type": "execute_result"
    }
   ],
   "source": [
    "# x harus berbentuk matriks\n",
    "\n",
    "model_lr.fit(x[:,np.newaxis],y)"
   ]
  },
  {
   "cell_type": "code",
   "execution_count": 26,
   "metadata": {},
   "outputs": [],
   "source": [
    "y_predict = model_lr.predict(x[:, np.newaxis])"
   ]
  },
  {
   "cell_type": "code",
   "execution_count": 30,
   "metadata": {},
   "outputs": [
    {
     "data": {
      "text/plain": [
       "<matplotlib.legend.Legend at 0x12b52f039b0>"
      ]
     },
     "execution_count": 30,
     "metadata": {},
     "output_type": "execute_result"
    },
    {
     "data": {
      "image/png": "[encoded data removed]",
      "text/plain": [
       "<Figure size 432x288 with 1 Axes>"
      ]
     },
     "metadata": {
      "needs_background": "light"
     },
     "output_type": "display_data"
    }
   ],
   "source": [
    "plt.plot(x,y_predict, 'r', label='model predicted data')\n",
    "plt.scatter(x,y, label='actual data')\n",
    "plt.legend()"
   ]
  },
  {
   "cell_type": "code",
   "execution_count": 37,
   "metadata": {
    "scrolled": false
   },
   "outputs": [
    {
     "name": "stdout",
     "output_type": "stream",
     "text": [
      "slope dari model : 5.008\n",
      "intercept dari model : 10.466\n"
     ]
    }
   ],
   "source": [
    "slope = model_lr.coef_\n",
    "print('slope dari model :', round(slope[0],3))\n",
    "\n",
    "intercept = model_lr.intercept_\n",
    "print('intercept dari model :', round(intercept,3))"
   ]
  },
  {
   "cell_type": "markdown",
   "metadata": {},
   "source": [
    "dengan begitu nilai slope dan intercept dari model mendekati slope dan intercept dari data asli\n",
    "\n",
    "y = 5*x + 10 + rng.rand(50) # x=slope coef=5, 10=intercept"
   ]
  },
  {
   "cell_type": "markdown",
   "metadata": {},
   "source": [
    "### Linear regression multidimensi"
   ]
  },
  {
   "cell_type": "code",
   "execution_count": 49,
   "metadata": {},
   "outputs": [],
   "source": [
    "# model data multi dimensi\n",
    "x = rng.rand(50,3)\n",
    "y = np.dot(x, [4,2,7]) + 20 # ada 3 slope, x*4 + x*2 + x*7 + 20"
   ]
  },
  {
   "cell_type": "code",
   "execution_count": 50,
   "metadata": {},
   "outputs": [],
   "source": [
    "model_lr2 = LinearRegression(fit_intercept=True)"
   ]
  },
  {
   "cell_type": "code",
   "execution_count": 51,
   "metadata": {},
   "outputs": [
    {
     "data": {
      "text/plain": [
       "LinearRegression()"
      ]
     },
     "execution_count": 51,
     "metadata": {},
     "output_type": "execute_result"
    }
   ],
   "source": [
    "model_lr2.fit(x,y)"
   ]
  },
  {
   "cell_type": "code",
   "execution_count": 52,
   "metadata": {},
   "outputs": [],
   "source": [
    "y_predict = model_lr2.predict(x)"
   ]
  },
  {
   "cell_type": "code",
   "execution_count": 54,
   "metadata": {},
   "outputs": [
    {
     "data": {
      "text/plain": [
       "array([4., 2., 7.])"
      ]
     },
     "execution_count": 54,
     "metadata": {},
     "output_type": "execute_result"
    }
   ],
   "source": [
    "# parameter\n",
    "model_lr2.coef_"
   ]
  },
  {
   "cell_type": "code",
   "execution_count": 55,
   "metadata": {
    "scrolled": true
   },
   "outputs": [
    {
     "data": {
      "text/plain": [
       "20.0"
      ]
     },
     "execution_count": 55,
     "metadata": {},
     "output_type": "execute_result"
    }
   ],
   "source": [
    "model_lr2.intercept_"
   ]
  },
  {
   "cell_type": "markdown",
   "metadata": {},
   "source": [
    "parameter model sama dengan parameter data aktual\n",
    "x*4 + x*2 + x*7 + 20"
   ]
  }
 ],
 "metadata": {
  "kernelspec": {
   "display_name": "Python 3",
   "language": "python",
   "name": "python3"
  },
  "language_info": {
   "codemirror_mode": {
    "name": "ipython",
    "version": 3
   },
   "file_extension": ".py",
   "mimetype": "text/x-python",
   "name": "python",
   "nbconvert_exporter": "python",
   "pygments_lexer": "ipython3",
   "version": "3.7.3"
  }
 },
 "nbformat": 4,
 "nbformat_minor": 2
}
