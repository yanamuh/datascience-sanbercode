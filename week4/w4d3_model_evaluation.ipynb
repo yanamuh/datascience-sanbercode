{
 "cells": [
  {
   "cell_type": "markdown",
   "metadata": {
    "colab_type": "text",
    "id": "PrQVcF-ldGWQ"
   },
   "source": [
    "<h1> Soal 1: Pemahaman Tentang Model Evaluasi</h1>\n",
    "\n",
    "Jawab pertanyaan di bawah ini dengan bahasa masing-masing?\n",
    "\n",
    "1. Apa perbedaan antara data latih, data validasi, dan data test?\n",
    "2. Bagaimana cara kita menilai performa suatu model?\n",
    "3. Apa itu Confusion Matrix? Jelaskan secara lengkap!\n",
    "4. Apa itu Classification Report dari sklearn?"
   ]
  },
  {
   "cell_type": "markdown",
   "metadata": {
    "colab_type": "text",
    "id": "sr6D5UIhgpwO"
   },
   "source": [
    "Jawab:\n",
    "1. Apa perbedaan antara data latih, data validasi, dan data test?\n",
    "- data latih adalah data yang digunakan untuk melatih model machine learning\n",
    "- data validasi adalah data yang digunakan untuk memvalidasi (evaluasi) model machine learning, mengatur parameter atau mencari parameter yang optimal, dan mencegah overfitting\n",
    "- data test adalah data yang digunakan untuk mengetest model machine learning yang sudah selesai dilatih (mengestimasi error dari model / tingkat keakuratannya)\n",
    "------\n",
    "2. Menilai performa model dapat dilakukan dengan fungsi metrics, macam-macam metrics diantaranya\n",
    "- Accuracy score -> jumlah prediksi yang benar / jumlah data\n",
    "- Confusion matrix\n",
    "- AUC\n",
    "- Log-loss\n",
    "-------\n",
    "3. Confusion matrix adalah salah satu metrics untuk mengevaluasi performa model machine learning. Umumnya digunakan jika terdapat class imbalance. Dalam confusion matrix ada 4 kategori tebakan\n",
    "- tebakan benar, nilainya positif (TP)\n",
    "- tebakan salah, nilainya positif (FP)\n",
    "- tebakan benar, nilainya negatif (TN)\n",
    "- tebakan salah, nilainya negatif (FN)\n",
    "\n",
    "dan ada 2 tipe error\n",
    "- error ketika menebak positif -> Type 1 error\n",
    "- error ketika menebak negatif -> Tyoe 2 error\n",
    "--------\n",
    "4. Classification report adalah salah satu fungsi dari sklearn yang dapat digunakan untuk mereport hasil confusion matrix dalam bentuk precision, recall, dan f1-score"
   ]
  },
  {
   "cell_type": "markdown",
   "metadata": {
    "colab_type": "text",
    "id": "uY-s7-KDgrkV"
   },
   "source": [
    "---"
   ]
  },
  {
   "cell_type": "markdown",
   "metadata": {
    "colab_type": "text",
    "id": "Fv2TVsgAdGWY"
   },
   "source": [
    "<h1>Soal 2: Aplikasi Model Evaluasi</h1>\n",
    "\n",
    "Kali ini kita akan menggunakan data untuk memprediksi kelangsungan hidup pasien yang telah mengalami operasi payudara. Dengan informasi yang dimiliki terkait pasien, kita akan membuat model untuk memprediksi apakah pasien akan bertahan hidup dalam waktu lebih dari 5 tahun atau tidak.\n",
    "\n",
    "Lebih Lengkapnya kalian bisa membaca informasi tentang dataset di link berikut: https://raw.githubusercontent.com/jbrownlee/Datasets/master/haberman.names\n",
    "\n",
    "Buat model Klasifikasi (Model/Algoritma Bebas) untuk memprediksi status pasien dengan ketentuan sebagai berikut:\n",
    "\n",
    "1. Bagi kedua data ini menjadi data training dan data test dengan test_size=0.25.\n",
    "3. Pelajar tentang metrics roc_auc_score kemudian buatlah model dan evaluasi dengan menggunakan teknik cross-validation dengan scoring 'roc_auc'. Baca https://scikit-learn.org/stable/modules/generated/sklearn.model_selection.cross_val_score.html untuk menggunakan metric roc_auc saat cross-validation.\n",
    "3. Berapa score rata2 dari model dengan teknik cross-validation tersebut?\n",
    "4. Prediksi data test dengan model yang telah kalian buat!\n",
    "5. Bagaimana hasil confusion matrix dari hasil prediksi tersebut?\n",
    "6. Bagaimana classification report dari hasil prediksi tersebut?\n",
    "5. Seberapa baik model anda dalam memprediksi seorang pasien mempunyai status positive?\n",
    "6. Seberapa baik model anda dalam memprediksi seorang pasien mempunyai status negatif?"
   ]
  },
  {
   "cell_type": "code",
   "execution_count": 3,
   "metadata": {
    "colab": {},
    "colab_type": "code",
    "id": "g4UqaWyPdGWj"
   },
   "outputs": [],
   "source": [
    "import pandas as pd\n",
    "\n",
    "url = 'https://raw.githubusercontent.com/jbrownlee/Datasets/master/haberman.csv'\n",
    "list_cols = ['Age', \"Patient's Years\", \"N_positive_ax\", \"survival_status\"]\n",
    "df = pd.read_csv(url, names=list_cols)"
   ]
  },
  {
   "cell_type": "code",
   "execution_count": 4,
   "metadata": {
    "colab": {},
    "colab_type": "code",
    "id": "YrbPNGtHdGXV",
    "scrolled": true
   },
   "outputs": [
    {
     "data": {
      "text/html": [
       "<div>\n",
       "<style scoped>\n",
       "    .dataframe tbody tr th:only-of-type {\n",
       "        vertical-align: middle;\n",
       "    }\n",
       "\n",
       "    .dataframe tbody tr th {\n",
       "        vertical-align: top;\n",
       "    }\n",
       "\n",
       "    .dataframe thead th {\n",
       "        text-align: right;\n",
       "    }\n",
       "</style>\n",
       "<table border=\"1\" class=\"dataframe\">\n",
       "  <thead>\n",
       "    <tr style=\"text-align: right;\">\n",
       "      <th></th>\n",
       "      <th>Age</th>\n",
       "      <th>Patient's Years</th>\n",
       "      <th>N_positive_ax</th>\n",
       "      <th>survival_status</th>\n",
       "    </tr>\n",
       "  </thead>\n",
       "  <tbody>\n",
       "    <tr>\n",
       "      <th>0</th>\n",
       "      <td>30</td>\n",
       "      <td>64</td>\n",
       "      <td>1</td>\n",
       "      <td>1</td>\n",
       "    </tr>\n",
       "    <tr>\n",
       "      <th>1</th>\n",
       "      <td>30</td>\n",
       "      <td>62</td>\n",
       "      <td>3</td>\n",
       "      <td>1</td>\n",
       "    </tr>\n",
       "    <tr>\n",
       "      <th>2</th>\n",
       "      <td>30</td>\n",
       "      <td>65</td>\n",
       "      <td>0</td>\n",
       "      <td>1</td>\n",
       "    </tr>\n",
       "    <tr>\n",
       "      <th>3</th>\n",
       "      <td>31</td>\n",
       "      <td>59</td>\n",
       "      <td>2</td>\n",
       "      <td>1</td>\n",
       "    </tr>\n",
       "    <tr>\n",
       "      <th>4</th>\n",
       "      <td>31</td>\n",
       "      <td>65</td>\n",
       "      <td>4</td>\n",
       "      <td>1</td>\n",
       "    </tr>\n",
       "  </tbody>\n",
       "</table>\n",
       "</div>"
      ],
      "text/plain": [
       "   Age  Patient's Years  N_positive_ax  survival_status\n",
       "0   30               64              1                1\n",
       "1   30               62              3                1\n",
       "2   30               65              0                1\n",
       "3   31               59              2                1\n",
       "4   31               65              4                1"
      ]
     },
     "execution_count": 4,
     "metadata": {},
     "output_type": "execute_result"
    }
   ],
   "source": [
    "df.head()"
   ]
  },
  {
   "cell_type": "code",
   "execution_count": 5,
   "metadata": {
    "colab": {},
    "colab_type": "code",
    "id": "-dxYNPg7dGX4"
   },
   "outputs": [
    {
     "data": {
      "text/plain": [
       "1    225\n",
       "2     81\n",
       "Name: survival_status, dtype: int64"
      ]
     },
     "execution_count": 5,
     "metadata": {},
     "output_type": "execute_result"
    }
   ],
   "source": [
    "df['survival_status'].value_counts()"
   ]
  },
  {
   "cell_type": "code",
   "execution_count": 11,
   "metadata": {
    "colab": {},
    "colab_type": "code",
    "id": "8W2amvZgdGYX"
   },
   "outputs": [
    {
     "data": {
      "text/plain": [
       "KNeighborsClassifier(n_neighbors=6)"
      ]
     },
     "execution_count": 11,
     "metadata": {},
     "output_type": "execute_result"
    }
   ],
   "source": [
    "# Code here\n",
    "import numpy as np\n",
    "import matplotlib.pyplot as plt\n",
    "from sklearn.model_selection import train_test_split, cross_val_score\n",
    "from sklearn.neighbors import KNeighborsClassifier\n",
    "from sklearn.metrics import confusion_matrix, classification_report\n",
    "\n",
    "# split data features and target\n",
    "x = df.drop('survival_status', axis=1)\n",
    "y = df.survival_status\n",
    "\n",
    "# split data train and data test\n",
    "x_train, x_test, y_train, y_test = train_test_split(x,y, test_size=0.25)\n",
    "\n",
    "# create an object model and choose hyperparameter value\n",
    "knn = KNeighborsClassifier(n_neighbors=6)\n",
    "\n",
    "# fit / learning process\n",
    "knn.fit(x_train,y_train)"
   ]
  },
  {
   "cell_type": "code",
   "execution_count": 12,
   "metadata": {},
   "outputs": [
    {
     "name": "stdout",
     "output_type": "stream",
     "text": [
      "score rata-rata dari cross validation:  0.6705561045234958\n"
     ]
    }
   ],
   "source": [
    "# cross validation\n",
    "score = cross_val_score(knn, x, y, cv=10, scoring='roc_auc')\n",
    "print('score rata-rata dari cross validation: ',score.mean())"
   ]
  },
  {
   "cell_type": "code",
   "execution_count": 13,
   "metadata": {},
   "outputs": [],
   "source": [
    "# predict\n",
    "y_pred = knn.predict(x_test)"
   ]
  },
  {
   "cell_type": "code",
   "execution_count": 14,
   "metadata": {},
   "outputs": [
    {
     "data": {
      "text/plain": [
       "array([[53,  5],\n",
       "       [17,  2]], dtype=int64)"
      ]
     },
     "execution_count": 14,
     "metadata": {},
     "output_type": "execute_result"
    }
   ],
   "source": [
    "# confusion matrix\n",
    "conf = confusion_matrix(y_test, y_pred, labels=[1, 2])\n",
    "conf"
   ]
  },
  {
   "cell_type": "code",
   "execution_count": 15,
   "metadata": {},
   "outputs": [
    {
     "name": "stdout",
     "output_type": "stream",
     "text": [
      "              precision    recall  f1-score   support\n",
      "\n",
      "           1       0.76      0.91      0.83        58\n",
      "           2       0.29      0.11      0.15        19\n",
      "\n",
      "    accuracy                           0.71        77\n",
      "   macro avg       0.52      0.51      0.49        77\n",
      "weighted avg       0.64      0.71      0.66        77\n",
      "\n"
     ]
    }
   ],
   "source": [
    "# classification report\n",
    "class_report = classification_report(y_test, y_pred)\n",
    "print(class_report)"
   ]
  },
  {
   "cell_type": "markdown",
   "metadata": {},
   "source": [
    "- status positif -> mampu bertahan lebih dari 5 tahun\n",
    "- status negatif -> tidak mampu bertahan hidup lebih dari 5 tahun\n",
    "\n",
    "---\n",
    "Dari nilai presisi (1), kemampuan model dalam memprediksi pasien berstatus positif adalah 0.76.\n",
    "Dari nilai presisi (2), kemampuan model dalam memprediksi pasien berstatus negatif adalah 0.29. Artinya model tidak mampu mendeteksi pasien negatif dengan baik, dimana banyak pasien berstatus negatif malah terdeteksi positif."
   ]
  },
  {
   "cell_type": "markdown",
   "metadata": {},
   "source": [
    "true positive rate = x, x=1 setiap orang yang positif diprediksi dengan benar\n",
    "false positive rate= x, x=1 setiap orang yang negatif diprediksi positif (alias salah kabeh)\n",
    "\n",
    "If correctly identifying positives is important for us, then we should choose a model with higher Sensitivity. However, if correctly identifying negatives is more important, then we should choose specificity as the measurement metric."
   ]
  },
  {
   "cell_type": "markdown",
   "metadata": {
    "colab_type": "text",
    "id": "I6v_dgoN-7wL"
   },
   "source": [
    "---"
   ]
  },
  {
   "cell_type": "markdown",
   "metadata": {
    "colab_type": "text",
    "id": "teekoyIw--g2"
   },
   "source": [
    "<h1> Soal 3: Pemahaman Tentang Model Selection</h1>\n",
    "\n",
    "Jelaskan dengan bahasa sendiri!\n",
    "\n",
    "1. Apa itu Bias dan Variance?\n",
    "2. Apa itu Overfitting dan Underfitting?\n",
    "3. Apa yang bisa kita lakukan untuk mengatur kompleksitas dari model?\n",
    "4. Bagaimana model yang baik?\n",
    "5. Kapan kita menggunakan GridSearchcv dan kapan menggunakan RandomizedSearchCV?"
   ]
  },
  {
   "cell_type": "markdown",
   "metadata": {
    "colab_type": "text",
    "id": "4a1l4RNf_FcU"
   },
   "source": [
    "Jawab:\n",
    "1. Bias adalah perbedaan hasil prediksi dengan nilai yang sebenarnya, terjadi karena model yang terlalu simpel. Variansi adalah nilai tentang variasi/persebaran data atau variasi prediksi model terhadap data yang diberikan, terjadi karena model terlalu kompleks\n",
    "\n",
    "\n",
    "2. Overfitting adalah kondisi ketika hasil prediksi sangat mendekati nilai aktual, sehingga model tidak general dan tidak bisa digunakan untuk data lain. Hal ini terjadi karena model terlalu kompleks dan terlalu memperhatikan/mempelajari data training, mengambil detail dan juga noise data training. Underfitting adalah kondisi ketika hasil prediksi sangat jauh dari nilai aktual. Hal ini terjadi karena model terlalu simpel.\n",
    "\n",
    "\n",
    "3. Mengatur kompleksitas model dengan mengatur hyperparameter. Jika ingin menurunkan kompleksitas, maka turunkan jumlah parameter yang dipertimbangkan dalam model, berlaku sebaliknya\n",
    "\n",
    "\n",
    "4. Model yang baik adalah model yang generaliasi yang bagus, memiliki bias yang kecil dan variance yang kecil, sehingga model tidak akan underfitting atau overfitting.\n",
    "\n",
    "\n",
    "5. GridSearchCV dapat digunakan ketika hyperparameter yang ditentukan tidak terlalu banyak dan dataset tidak terlalu besar, sedangkan RandomizedSearchCV digunakan ketika terdapat banyak hyperparameter yang ditentukan serta ukuran dataset besar."
   ]
  },
  {
   "cell_type": "markdown",
   "metadata": {
    "colab_type": "text",
    "id": "Svj_cgxF_IZv"
   },
   "source": [
    "---"
   ]
  },
  {
   "cell_type": "markdown",
   "metadata": {
    "colab_type": "text",
    "id": "Hkh-PeRL_LZp"
   },
   "source": [
    "<h1> Soal 4: Aplikasi Model Selection</h1>\n",
    "\n",
    "1. Bagi kedua data berikut ini menjadi data training dan data test dengan test_size=0.25.\n",
    "2. Gunakan algoritma KNN sebagai model classifier.\n",
    "3. Gunakan fungsi GridSearchCV untuk hyperparameter tuning dan model selection.\n",
    "4. jumlah fold bebas!, gunakan scoring 'roc_auc'\n",
    "5. Definisikan kombinasi hyperparameter untuk model selection dengan GridSearchCV. kombinasi Hyperparameter bebas, baca lagi dokumentasi KNN di link berikut https://scikit-learn.org/stable/modules/generated/sklearn.neighbors.KNeighborsClassifier.html untuk memahami lagi jenis2 hyperparameter di algorithma KNN.\n",
    "6. Latih model terhadap data training.\n",
    "7. Apa hyperparameter terbaik untuk kombinasi hyperparameter kalian?\n",
    "8. Berapa score validasi terbaik dari model tersebut?\n",
    "9. Prediksi probabilitasi output dari model yang telah di buat terhadap data test. note : gunakan method .predict_proba() untuk menghasilkan output probabilitas\n",
    "10. Perhatikan bahwa hasil prediksi ada 2, dimana masing2 adalah nilai probabilitas untuk setiap class label. Ambil nilai probabilitas pasien phositive meninggal dalam waktu kurang dari 5 tahun. note : gunakan bantuan attirubte .classes_ untuk mengetahui urutan label dari hasil prediksi probabilitas.\n",
    "11. Berapa nilai score roc_auc untuk data test?\n",
    "12. Apakah model anda termasuk baik, overtting, atau underfitting?\n",
    "13. Ulangi tahap di atas namun kali ini menggunakan algoritma DecisionTreeClassifier dan kalian bisa menggunakan RandomizedSearchCV apabila process training lama. pelajari algoritma DecisionTreeClassifier di linkberikut: https://scikit-learn.org/stable/modules/generated/sklearn.tree.DecisionTreeClassifier.html?highlight=decisiontreeclassifier#sklearn.tree.DecisionTreeClassifier\n",
    "14. Bandingkan scorenya dengan Algoritma KNN, mana yang lebih baik?\n",
    "\n",
    "Note : Data Science adalah experiment, sangat di dimungkinkan memerlukan beberapa kali percobaan untuk mendapatkan hasil yang terbaik! Happy Coding :)"
   ]
  },
  {
   "cell_type": "code",
   "execution_count": 16,
   "metadata": {
    "colab": {},
    "colab_type": "code",
    "id": "l_zK8Mqb-9Z6"
   },
   "outputs": [],
   "source": [
    "import pandas as pd\n",
    "\n",
    "url = 'https://raw.githubusercontent.com/jbrownlee/Datasets/master/haberman.csv'\n",
    "list_cols = ['Age', \"Patient's Years\", \"N_positive_ax\", \"survival_status\"]\n",
    "df = pd.read_csv(url, names=list_cols)"
   ]
  },
  {
   "cell_type": "code",
   "execution_count": 17,
   "metadata": {
    "colab": {},
    "colab_type": "code",
    "id": "qb-AD43R_V_d"
   },
   "outputs": [
    {
     "data": {
      "text/html": [
       "<div>\n",
       "<style scoped>\n",
       "    .dataframe tbody tr th:only-of-type {\n",
       "        vertical-align: middle;\n",
       "    }\n",
       "\n",
       "    .dataframe tbody tr th {\n",
       "        vertical-align: top;\n",
       "    }\n",
       "\n",
       "    .dataframe thead th {\n",
       "        text-align: right;\n",
       "    }\n",
       "</style>\n",
       "<table border=\"1\" class=\"dataframe\">\n",
       "  <thead>\n",
       "    <tr style=\"text-align: right;\">\n",
       "      <th></th>\n",
       "      <th>Age</th>\n",
       "      <th>Patient's Years</th>\n",
       "      <th>N_positive_ax</th>\n",
       "      <th>survival_status</th>\n",
       "    </tr>\n",
       "  </thead>\n",
       "  <tbody>\n",
       "    <tr>\n",
       "      <th>0</th>\n",
       "      <td>30</td>\n",
       "      <td>64</td>\n",
       "      <td>1</td>\n",
       "      <td>1</td>\n",
       "    </tr>\n",
       "    <tr>\n",
       "      <th>1</th>\n",
       "      <td>30</td>\n",
       "      <td>62</td>\n",
       "      <td>3</td>\n",
       "      <td>1</td>\n",
       "    </tr>\n",
       "    <tr>\n",
       "      <th>2</th>\n",
       "      <td>30</td>\n",
       "      <td>65</td>\n",
       "      <td>0</td>\n",
       "      <td>1</td>\n",
       "    </tr>\n",
       "    <tr>\n",
       "      <th>3</th>\n",
       "      <td>31</td>\n",
       "      <td>59</td>\n",
       "      <td>2</td>\n",
       "      <td>1</td>\n",
       "    </tr>\n",
       "    <tr>\n",
       "      <th>4</th>\n",
       "      <td>31</td>\n",
       "      <td>65</td>\n",
       "      <td>4</td>\n",
       "      <td>1</td>\n",
       "    </tr>\n",
       "  </tbody>\n",
       "</table>\n",
       "</div>"
      ],
      "text/plain": [
       "   Age  Patient's Years  N_positive_ax  survival_status\n",
       "0   30               64              1                1\n",
       "1   30               62              3                1\n",
       "2   30               65              0                1\n",
       "3   31               59              2                1\n",
       "4   31               65              4                1"
      ]
     },
     "execution_count": 17,
     "metadata": {},
     "output_type": "execute_result"
    }
   ],
   "source": [
    "df.head()"
   ]
  },
  {
   "cell_type": "code",
   "execution_count": 20,
   "metadata": {
    "colab": {},
    "colab_type": "code",
    "id": "znc1dEGO_XU2"
   },
   "outputs": [],
   "source": [
    "# Code here\n",
    "import numpy as np\n",
    "from sklearn.model_selection import train_test_split, cross_val_score, cross_validate\n",
    "from sklearn.neighbors import KNeighborsClassifier\n",
    "from sklearn.metrics import confusion_matrix, classification_report, roc_auc_score\n",
    "from sklearn.model_selection import GridSearchCV, RandomizedSearchCV\n",
    "\n",
    "# split data features and target\n",
    "x2 = df.drop('survival_status', axis=1)\n",
    "y2 = df.survival_status\n",
    "\n",
    "# 1. split data train and data test\n",
    "x_train, x_test, y_train, y_test = train_test_split(x2,y2, test_size=0.25)"
   ]
  },
  {
   "cell_type": "code",
   "execution_count": 21,
   "metadata": {},
   "outputs": [],
   "source": [
    "# 2. pilih model\n",
    "knn2 = KNeighborsClassifier()\n",
    "\n",
    "# 3 & 4 & 5. hypertuning & model selection\n",
    "param_grid = {'n_neighbors': np.arange(5,50), 'weights':['uniform', 'distance']}\n",
    "knn_gscv = GridSearchCV(knn2, param_grid=param_grid, scoring='roc_auc', cv=10)"
   ]
  },
  {
   "cell_type": "code",
   "execution_count": 22,
   "metadata": {},
   "outputs": [
    {
     "data": {
      "text/plain": [
       "GridSearchCV(cv=10, estimator=KNeighborsClassifier(),\n",
       "             param_grid={'n_neighbors': array([ 5,  6,  7,  8,  9, 10, 11, 12, 13, 14, 15, 16, 17, 18, 19, 20, 21,\n",
       "       22, 23, 24, 25, 26, 27, 28, 29, 30, 31, 32, 33, 34, 35, 36, 37, 38,\n",
       "       39, 40, 41, 42, 43, 44, 45, 46, 47, 48, 49]),\n",
       "                         'weights': ['uniform', 'distance']},\n",
       "             scoring='roc_auc')"
      ]
     },
     "execution_count": 22,
     "metadata": {},
     "output_type": "execute_result"
    }
   ],
   "source": [
    "# 6. latih model / fitting\n",
    "knn_gscv.fit(x_train, y_train)"
   ]
  },
  {
   "cell_type": "code",
   "execution_count": 23,
   "metadata": {},
   "outputs": [
    {
     "data": {
      "text/plain": [
       "{'n_neighbors': 43, 'weights': 'distance'}"
      ]
     },
     "execution_count": 23,
     "metadata": {},
     "output_type": "execute_result"
    }
   ],
   "source": [
    "# 7. parameter terbaik\n",
    "knn_gscv.best_params_"
   ]
  },
  {
   "cell_type": "code",
   "execution_count": 24,
   "metadata": {
    "scrolled": true
   },
   "outputs": [
    {
     "data": {
      "text/plain": [
       "0.7470238095238095"
      ]
     },
     "execution_count": 24,
     "metadata": {},
     "output_type": "execute_result"
    }
   ],
   "source": [
    "# 8. score terbaik\n",
    "knn_gscv.best_score_"
   ]
  },
  {
   "cell_type": "code",
   "execution_count": 25,
   "metadata": {},
   "outputs": [
    {
     "data": {
      "text/plain": [
       "array([[0.83258183, 0.16741817],\n",
       "       [1.        , 0.        ],\n",
       "       [0.39332346, 0.60667654],\n",
       "       [0.74524505, 0.25475495],\n",
       "       [0.83840279, 0.16159721]])"
      ]
     },
     "execution_count": 25,
     "metadata": {},
     "output_type": "execute_result"
    }
   ],
   "source": [
    "# 9. probabilitas output dari model\n",
    "# predict() -> cuma output prediksi binari 1 atau 0\n",
    "# predict_proba() -> probabilitas dari prediksi, seberapa besar probability dari prediksi 1 atau 0\n",
    "\n",
    "y_pred_proba = knn_gscv.predict_proba(x_test)\n",
    "y_pred_proba[:5]"
   ]
  },
  {
   "cell_type": "code",
   "execution_count": 26,
   "metadata": {
    "scrolled": true
   },
   "outputs": [
    {
     "name": "stdout",
     "output_type": "stream",
     "text": [
      "Probabilitas pasien positif meninggal dalam waktu kurang dari 5 tahun: \n",
      " [0.16741817 0.         0.60667654 0.25475495 0.16159721 0.\n",
      " 0.12443936 0.         0.         0.10119795 1.         0.11937843\n",
      " 0.16602641 0.14435883 0.25226128 0.2701761  0.61744757 0.26118937\n",
      " 0.09580763 0.0403196  0.12501726 0.15150983 0.22470571 0.17031635\n",
      " 0.0962158  0.2918312  0.28986706 0.64222666 0.50353575 0.52120134\n",
      " 0.14852859 0.2297855  0.27684358 1.         0.16365024 0.25322901\n",
      " 0.23951697 0.25921231 0.27836434 0.60465297 1.         0.\n",
      " 0.1681527  0.19743848 0.2473377  0.22428146 0.21183707 0.19140368\n",
      " 0.53104928 0.51919309 0.23401829 0.32558806 0.19393261 0.49724937\n",
      " 0.26975634 0.19701459 0.12162815 0.17652051 0.04026605 0.\n",
      " 0.1488632  0.48828038 1.         0.67655112 0.27578673 0.49809496\n",
      " 0.         0.20990992 0.20796145 0.17816932 0.06297444 0.26606695\n",
      " 0.24760917 0.15607544 0.0883287  0.         0.51992519]\n"
     ]
    }
   ],
   "source": [
    "# 10 Ambil nilai probabilitas pasien phositive meninggal dalam waktu kurang dari 5 tahun\n",
    "# survival = 1 -> the patient survived 5 years or longer\n",
    "# survival = 2 -> the patient died within 5 years\n",
    "\n",
    "survived_probs = y_pred_proba[:,0]\n",
    "died_probs = y_pred_proba[:,1]\n",
    "\n",
    "print('Probabilitas pasien positif meninggal dalam waktu kurang dari 5 tahun: \\n', died_probs)"
   ]
  },
  {
   "cell_type": "code",
   "execution_count": 28,
   "metadata": {},
   "outputs": [
    {
     "name": "stdout",
     "output_type": "stream",
     "text": [
      "Survived more than 5 years: ROC AUC = 0.386\n",
      "Died within 5 years: ROC AUC = 0.614\n"
     ]
    }
   ],
   "source": [
    "# 11  nilai score roc_auc untuk data test\n",
    "survived_test_auc_score = roc_auc_score(y_test, survived_probs)\n",
    "died_test_auc_score = roc_auc_score(y_test, died_probs)\n",
    "\n",
    "print('Survived more than 5 years: ROC AUC = %.3f' % (survived_test_auc_score))\n",
    "print('Died within 5 years: ROC AUC = %.3f' % (died_test_auc_score))"
   ]
  },
  {
   "cell_type": "markdown",
   "metadata": {},
   "source": [
    "12. Apakah model anda termasuk baik, overtting, atau underfitting?\n",
    "\n",
    "Dari metrics didapat score roc_auc sebesar 0.614. Nilai AOC = 0.614 mendekati 0.5 yang menandakan bahwa model tidak terlalu bisa membedakan antara pasien yang tidak dapat bertahan (died) dan yang dapat bertahan hidup (survived). Model tidak overfitting, tetapi cenderung underfitting. "
   ]
  },
  {
   "cell_type": "markdown",
   "metadata": {},
   "source": [
    "### Decision tree classifier\n",
    "\n",
    "13. Gunakan algoritma DecisionTreeClassifier dan kalian bisa menggunakan RandomizedSearchCV"
   ]
  },
  {
   "cell_type": "code",
   "execution_count": 29,
   "metadata": {},
   "outputs": [
    {
     "data": {
      "text/plain": [
       "RandomizedSearchCV(cv=10, estimator=DecisionTreeClassifier(),\n",
       "                   param_distributions={'criterion': ['gini', 'entropy'],\n",
       "                                        'max_depth': array([1, 2, 3, 4, 5, 6, 7, 8, 9]),\n",
       "                                        'min_samples_leaf': array([ 2,  3,  4,  5,  6,  7,  8,  9, 10, 11, 12, 13, 14, 15, 16, 17, 18,\n",
       "       19, 20, 21, 22, 23, 24, 25, 26, 27, 28, 29]),\n",
       "                                        'random_state': array([ 2,  3,  4,  5,  6,  7,  8,  9, 10, 11, 12, 13, 14, 15, 16, 17, 18,\n",
       "       19, 20, 21, 22, 23, 24, 25, 26, 27, 28, 29])},\n",
       "                   scoring='roc_auc')"
      ]
     },
     "execution_count": 29,
     "metadata": {},
     "output_type": "execute_result"
    }
   ],
   "source": [
    "# pilih model\n",
    "from sklearn.tree import DecisionTreeClassifier\n",
    "dtc = DecisionTreeClassifier()\n",
    "\n",
    "# hyperparameter tuning\n",
    "param_grid = {'criterion':['gini','entropy'], 'max_depth':np.arange(1,10), 'min_samples_leaf':np.arange(2,30), 'random_state':np.arange(2,30)}\n",
    "dtc_gscv = RandomizedSearchCV(dtc, param_grid, scoring='roc_auc', cv=10)\n",
    "\n",
    "# learning\n",
    "dtc_gscv.fit(x_train, y_train)"
   ]
  },
  {
   "cell_type": "code",
   "execution_count": 30,
   "metadata": {
    "scrolled": true
   },
   "outputs": [
    {
     "name": "stdout",
     "output_type": "stream",
     "text": [
      "best DecisionTreeClassifier model parameter: \n",
      " {'random_state': 8, 'min_samples_leaf': 15, 'max_depth': 4, 'criterion': 'gini'} \n",
      "\n",
      "best DecisionTreeClassifier model score: \n",
      " 0.7426207983193278\n"
     ]
    }
   ],
   "source": [
    "# best parameter & score\n",
    "print('best DecisionTreeClassifier model parameter: \\n', dtc_gscv.best_params_,'\\n')\n",
    "print('best DecisionTreeClassifier model score: \\n', dtc_gscv.best_score_)"
   ]
  },
  {
   "cell_type": "code",
   "execution_count": 31,
   "metadata": {
    "scrolled": false
   },
   "outputs": [],
   "source": [
    "# predict probability\n",
    "y_pred2_proba = dtc_gscv.predict_proba(x_test)"
   ]
  },
  {
   "cell_type": "code",
   "execution_count": 32,
   "metadata": {},
   "outputs": [
    {
     "name": "stdout",
     "output_type": "stream",
     "text": [
      "Probabilitas pasien positif meninggal dalam waktu kurang dari 5 tahun:\n",
      " [0.04545455 0.31034483 0.77272727 0.45454545 0.         0.\n",
      " 0.04545455 0.         0.26666667 0.17647059 0.3125     0.31034483\n",
      " 0.31034483 0.04545455 0.45454545 0.3125     0.77272727 0.45454545\n",
      " 0.08571429 0.08571429 0.         0.         0.3125     0.3125\n",
      " 0.17647059 0.17647059 0.17647059 0.77272727 0.45454545 0.77272727\n",
      " 0.         0.58823529 0.58823529 0.3125     0.04545455 0.26666667\n",
      " 0.45454545 0.45454545 0.45454545 0.77272727 0.31034483 0.3125\n",
      " 0.45454545 0.04545455 0.45454545 0.31034483 0.26666667 0.31034483\n",
      " 0.77272727 0.77272727 0.         0.45454545 0.26666667 0.17647059\n",
      " 0.04545455 0.31034483 0.         0.31034483 0.08571429 0.04545455\n",
      " 0.         0.45454545 0.77272727 0.77272727 0.3125     0.17647059\n",
      " 0.         0.3125     0.         0.26666667 0.08571429 0.3125\n",
      " 0.45454545 0.04545455 0.17647059 0.         0.77272727]\n"
     ]
    }
   ],
   "source": [
    "survived_probs2 = y_pred2_proba[:,0]\n",
    "died_probs2 = y_pred2_proba[:,1]\n",
    "\n",
    "print('Probabilitas pasien positif meninggal dalam waktu kurang dari 5 tahun:\\n {}'.format(died_probs2))"
   ]
  },
  {
   "cell_type": "code",
   "execution_count": 33,
   "metadata": {},
   "outputs": [
    {
     "name": "stdout",
     "output_type": "stream",
     "text": [
      "Survived more than 5 years: ROC AUC = 0.402\n",
      "Died within 5 years: ROC AUC = 0.598\n"
     ]
    }
   ],
   "source": [
    "# test score - using ROC AUC\n",
    "survived_auc2 = roc_auc_score(y_test, survived_probs2)\n",
    "died_auc2 = roc_auc_score(y_test, died_probs2)\n",
    "\n",
    "print('Survived more than 5 years: ROC AUC = %.3f' % (survived_auc2))\n",
    "print('Died within 5 years: ROC AUC = %.3f' % (died_auc2))"
   ]
  },
  {
   "cell_type": "markdown",
   "metadata": {},
   "source": [
    "- Specifity = true negative rate\n",
    "- 1 - specifity = false positive rate\n",
    "- AUC ROC indicates how well the probabilities from the positive classes are separated from the negative classes."
   ]
  },
  {
   "cell_type": "markdown",
   "metadata": {},
   "source": [
    "14. Bandingkan scorenya dengan Algoritma KNN"
   ]
  },
  {
   "cell_type": "markdown",
   "metadata": {},
   "source": [
    "Kedua model tidak mampu membedakan label dengan cukup baik. Performa KNN dalam mendeteksi pasien yang tidak dapat bertahan hidup (AUC=0.614) hampir sama dengan Decision Tree (AUC=0.598).\n",
    "\n",
    "Begitupun dalam mendeteksi pasien yang mampu bertahan hidup, performa KNN (AUC=0.386) tidak jauh berbeda dengan performa Decision Tree (AUC=0.402)"
   ]
  }
 ],
 "metadata": {
  "colab": {
   "collapsed_sections": [],
   "name": "Tugas Hari 3 Pekan 4.ipynb",
   "provenance": []
  },
  "kernelspec": {
   "display_name": "Python 3",
   "language": "python",
   "name": "python3"
  },
  "language_info": {
   "codemirror_mode": {
    "name": "ipython",
    "version": 3
   },
   "file_extension": ".py",
   "mimetype": "text/x-python",
   "name": "python",
   "nbconvert_exporter": "python",
   "pygments_lexer": "ipython3",
   "version": "3.7.3"
  }
 },
 "nbformat": 4,
 "nbformat_minor": 1
}
